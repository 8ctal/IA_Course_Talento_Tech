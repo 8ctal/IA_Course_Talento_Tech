{
  "cells": [
    {
      "cell_type": "markdown",
      "metadata": {
        "id": "view-in-github",
        "colab_type": "text"
      },
      "source": [
        "<a href=\"https://colab.research.google.com/github/8ctal/IA_Course_Talento_Tech/blob/main/MISION2G61.ipynb\" target=\"_parent\"><img src=\"https://colab.research.google.com/assets/colab-badge.svg\" alt=\"Open In Colab\"/></a>"
      ]
    },
    {
      "cell_type": "code",
      "execution_count": null,
      "metadata": {
        "colab": {
          "base_uri": "https://localhost:8080/"
        },
        "id": "gfkn-U62_ohG",
        "outputId": "7aaa51f9-1d7c-4f54-9559-aee4b0a75c00"
      },
      "outputs": [
        {
          "name": "stdout",
          "output_type": "stream",
          "text": [
            "Requirement already satisfied: nltk in /usr/local/lib/python3.10/dist-packages (3.9.1)\n",
            "Requirement already satisfied: click in /usr/local/lib/python3.10/dist-packages (from nltk) (8.1.7)\n",
            "Requirement already satisfied: joblib in /usr/local/lib/python3.10/dist-packages (from nltk) (1.4.2)\n",
            "Requirement already satisfied: regex>=2021.8.3 in /usr/local/lib/python3.10/dist-packages (from nltk) (2024.9.11)\n",
            "Requirement already satisfied: tqdm in /usr/local/lib/python3.10/dist-packages (from nltk) (4.66.6)\n"
          ]
        }
      ],
      "source": [
        "# Paso 1: Instalar paquetes necesarios\n",
        "!pip install nltk"
      ]
    },
    {
      "cell_type": "code",
      "execution_count": null,
      "metadata": {
        "colab": {
          "base_uri": "https://localhost:8080/",
          "height": 463
        },
        "id": "qMMaJy3eAeKN",
        "outputId": "4aaab122-0240-4523-8698-52c4aef957d5"
      },
      "outputs": [
        {
          "name": "stdout",
          "output_type": "stream",
          "text": [
            "Hola, soy un chatbot. ¿En qué puedo ayudarte?\n",
            ">Mi nombre es Juliana\n",
            "Hola juliana, ¿Cómo puedo ayudarte hoy?\n",
            ">Como esta el clima?\n",
            "Está un poco calido...\n",
            ">¿Como estas?\n",
            "None\n"
          ]
        },
        {
          "ename": "KeyboardInterrupt",
          "evalue": "Interrupted by user",
          "output_type": "error",
          "traceback": [
            "\u001b[0;31m---------------------------------------------------------------------------\u001b[0m",
            "\u001b[0;31mKeyboardInterrupt\u001b[0m                         Traceback (most recent call last)",
            "\u001b[0;32m<ipython-input-5-8938476e0b5c>\u001b[0m in \u001b[0;36m<cell line: 18>\u001b[0;34m()\u001b[0m\n\u001b[1;32m     17\u001b[0m \u001b[0;34m\u001b[0m\u001b[0m\n\u001b[1;32m     18\u001b[0m \u001b[0;32mif\u001b[0m \u001b[0m__name__\u001b[0m \u001b[0;34m==\u001b[0m \u001b[0;34m\"__main__\"\u001b[0m\u001b[0;34m:\u001b[0m\u001b[0;34m\u001b[0m\u001b[0;34m\u001b[0m\u001b[0m\n\u001b[0;32m---> 19\u001b[0;31m   \u001b[0mchatbot\u001b[0m\u001b[0;34m(\u001b[0m\u001b[0;34m)\u001b[0m\u001b[0;34m\u001b[0m\u001b[0;34m\u001b[0m\u001b[0m\n\u001b[0m",
            "\u001b[0;32m<ipython-input-5-8938476e0b5c>\u001b[0m in \u001b[0;36mchatbot\u001b[0;34m()\u001b[0m\n\u001b[1;32m     14\u001b[0m \u001b[0;34m\u001b[0m\u001b[0m\n\u001b[1;32m     15\u001b[0m   \u001b[0mchat\u001b[0m \u001b[0;34m=\u001b[0m \u001b[0mChat\u001b[0m\u001b[0;34m(\u001b[0m\u001b[0mpairs\u001b[0m\u001b[0;34m,\u001b[0m \u001b[0mreflections\u001b[0m\u001b[0;34m)\u001b[0m\u001b[0;34m\u001b[0m\u001b[0;34m\u001b[0m\u001b[0m\n\u001b[0;32m---> 16\u001b[0;31m   \u001b[0mchat\u001b[0m\u001b[0;34m.\u001b[0m\u001b[0mconverse\u001b[0m\u001b[0;34m(\u001b[0m\u001b[0;34m)\u001b[0m\u001b[0;34m\u001b[0m\u001b[0;34m\u001b[0m\u001b[0m\n\u001b[0m\u001b[1;32m     17\u001b[0m \u001b[0;34m\u001b[0m\u001b[0m\n\u001b[1;32m     18\u001b[0m \u001b[0;32mif\u001b[0m \u001b[0m__name__\u001b[0m \u001b[0;34m==\u001b[0m \u001b[0;34m\"__main__\"\u001b[0m\u001b[0;34m:\u001b[0m\u001b[0;34m\u001b[0m\u001b[0;34m\u001b[0m\u001b[0m\n",
            "\u001b[0;32m/usr/local/lib/python3.10/dist-packages/nltk/chat/util.py\u001b[0m in \u001b[0;36mconverse\u001b[0;34m(self, quit)\u001b[0m\n\u001b[1;32m    116\u001b[0m             \u001b[0muser_input\u001b[0m \u001b[0;34m=\u001b[0m \u001b[0mquit\u001b[0m\u001b[0;34m\u001b[0m\u001b[0;34m\u001b[0m\u001b[0m\n\u001b[1;32m    117\u001b[0m             \u001b[0;32mtry\u001b[0m\u001b[0;34m:\u001b[0m\u001b[0;34m\u001b[0m\u001b[0;34m\u001b[0m\u001b[0m\n\u001b[0;32m--> 118\u001b[0;31m                 \u001b[0muser_input\u001b[0m \u001b[0;34m=\u001b[0m \u001b[0minput\u001b[0m\u001b[0;34m(\u001b[0m\u001b[0;34m\">\"\u001b[0m\u001b[0;34m)\u001b[0m\u001b[0;34m\u001b[0m\u001b[0;34m\u001b[0m\u001b[0m\n\u001b[0m\u001b[1;32m    119\u001b[0m             \u001b[0;32mexcept\u001b[0m \u001b[0mEOFError\u001b[0m\u001b[0;34m:\u001b[0m\u001b[0;34m\u001b[0m\u001b[0;34m\u001b[0m\u001b[0m\n\u001b[1;32m    120\u001b[0m                 \u001b[0mprint\u001b[0m\u001b[0;34m(\u001b[0m\u001b[0muser_input\u001b[0m\u001b[0;34m)\u001b[0m\u001b[0;34m\u001b[0m\u001b[0;34m\u001b[0m\u001b[0m\n",
            "\u001b[0;32m/usr/local/lib/python3.10/dist-packages/ipykernel/kernelbase.py\u001b[0m in \u001b[0;36mraw_input\u001b[0;34m(self, prompt)\u001b[0m\n\u001b[1;32m    849\u001b[0m                 \u001b[0;34m\"raw_input was called, but this frontend does not support input requests.\"\u001b[0m\u001b[0;34m\u001b[0m\u001b[0;34m\u001b[0m\u001b[0m\n\u001b[1;32m    850\u001b[0m             )\n\u001b[0;32m--> 851\u001b[0;31m         return self._input_request(str(prompt),\n\u001b[0m\u001b[1;32m    852\u001b[0m             \u001b[0mself\u001b[0m\u001b[0;34m.\u001b[0m\u001b[0m_parent_ident\u001b[0m\u001b[0;34m,\u001b[0m\u001b[0;34m\u001b[0m\u001b[0;34m\u001b[0m\u001b[0m\n\u001b[1;32m    853\u001b[0m             \u001b[0mself\u001b[0m\u001b[0;34m.\u001b[0m\u001b[0m_parent_header\u001b[0m\u001b[0;34m,\u001b[0m\u001b[0;34m\u001b[0m\u001b[0;34m\u001b[0m\u001b[0m\n",
            "\u001b[0;32m/usr/local/lib/python3.10/dist-packages/ipykernel/kernelbase.py\u001b[0m in \u001b[0;36m_input_request\u001b[0;34m(self, prompt, ident, parent, password)\u001b[0m\n\u001b[1;32m    893\u001b[0m             \u001b[0;32mexcept\u001b[0m \u001b[0mKeyboardInterrupt\u001b[0m\u001b[0;34m:\u001b[0m\u001b[0;34m\u001b[0m\u001b[0;34m\u001b[0m\u001b[0m\n\u001b[1;32m    894\u001b[0m                 \u001b[0;31m# re-raise KeyboardInterrupt, to truncate traceback\u001b[0m\u001b[0;34m\u001b[0m\u001b[0;34m\u001b[0m\u001b[0m\n\u001b[0;32m--> 895\u001b[0;31m                 \u001b[0;32mraise\u001b[0m \u001b[0mKeyboardInterrupt\u001b[0m\u001b[0;34m(\u001b[0m\u001b[0;34m\"Interrupted by user\"\u001b[0m\u001b[0;34m)\u001b[0m \u001b[0;32mfrom\u001b[0m \u001b[0;32mNone\u001b[0m\u001b[0;34m\u001b[0m\u001b[0;34m\u001b[0m\u001b[0m\n\u001b[0m\u001b[1;32m    896\u001b[0m             \u001b[0;32mexcept\u001b[0m \u001b[0mException\u001b[0m \u001b[0;32mas\u001b[0m \u001b[0me\u001b[0m\u001b[0;34m:\u001b[0m\u001b[0;34m\u001b[0m\u001b[0;34m\u001b[0m\u001b[0m\n\u001b[1;32m    897\u001b[0m                 \u001b[0mself\u001b[0m\u001b[0;34m.\u001b[0m\u001b[0mlog\u001b[0m\u001b[0;34m.\u001b[0m\u001b[0mwarning\u001b[0m\u001b[0;34m(\u001b[0m\u001b[0;34m\"Invalid Message:\"\u001b[0m\u001b[0;34m,\u001b[0m \u001b[0mexc_info\u001b[0m\u001b[0;34m=\u001b[0m\u001b[0;32mTrue\u001b[0m\u001b[0;34m)\u001b[0m\u001b[0;34m\u001b[0m\u001b[0;34m\u001b[0m\u001b[0m\n",
            "\u001b[0;31mKeyboardInterrupt\u001b[0m: Interrupted by user"
          ]
        }
      ],
      "source": [
        "#Ejercicio 1\n",
        "import nltk\n",
        "from nltk.chat.util import Chat, reflections\n",
        "\n",
        "def chatbot():\n",
        "  print(\"Hola, soy un chatbot. ¿En qué puedo ayudarte?\")\n",
        "\n",
        "  pairs=[\n",
        "      [r\"mi nombre es (.*)\", [\"Hola %1, ¿Cómo puedo ayudarte hoy?\"]],\n",
        "      [r\"¿Como estás?\", [\"Estoy bien, y tu?\"]],\n",
        "      [r\"Buenos días\", [\"Buenos dís, ¿en que puedo ayudarte hoy?\"]],\n",
        "      [r\"Como esta el clima?\", [\"Está un poco calido...\"]]\n",
        "\n",
        "  ]\n",
        "\n",
        "  chat = Chat(pairs, reflections)\n",
        "  chat.converse()\n",
        "\n",
        "if __name__ == \"__main__\":\n",
        "  chatbot()"
      ]
    },
    {
      "cell_type": "code",
      "execution_count": null,
      "metadata": {
        "colab": {
          "base_uri": "https://localhost:8080/"
        },
        "id": "U8Dq_1qlDfWW",
        "outputId": "8e40c0ef-4deb-4ef5-db7c-e4f225abc31d"
      },
      "outputs": [
        {
          "name": "stdout",
          "output_type": "stream",
          "text": [
            "Requirement already satisfied: newspaper3k in /usr/local/lib/python3.10/dist-packages (0.2.8)\n",
            "Requirement already satisfied: beautifulsoup4>=4.4.1 in /usr/local/lib/python3.10/dist-packages (from newspaper3k) (4.12.3)\n",
            "Requirement already satisfied: Pillow>=3.3.0 in /usr/local/lib/python3.10/dist-packages (from newspaper3k) (11.0.0)\n",
            "Requirement already satisfied: PyYAML>=3.11 in /usr/local/lib/python3.10/dist-packages (from newspaper3k) (6.0.2)\n",
            "Requirement already satisfied: cssselect>=0.9.2 in /usr/local/lib/python3.10/dist-packages (from newspaper3k) (1.2.0)\n",
            "Requirement already satisfied: lxml>=3.6.0 in /usr/local/lib/python3.10/dist-packages (from newspaper3k) (5.3.0)\n",
            "Requirement already satisfied: nltk>=3.2.1 in /usr/local/lib/python3.10/dist-packages (from newspaper3k) (3.9.1)\n",
            "Requirement already satisfied: requests>=2.10.0 in /usr/local/lib/python3.10/dist-packages (from newspaper3k) (2.32.3)\n",
            "Requirement already satisfied: feedparser>=5.2.1 in /usr/local/lib/python3.10/dist-packages (from newspaper3k) (6.0.11)\n",
            "Requirement already satisfied: tldextract>=2.0.1 in /usr/local/lib/python3.10/dist-packages (from newspaper3k) (5.1.3)\n",
            "Requirement already satisfied: feedfinder2>=0.0.4 in /usr/local/lib/python3.10/dist-packages (from newspaper3k) (0.0.4)\n",
            "Requirement already satisfied: jieba3k>=0.35.1 in /usr/local/lib/python3.10/dist-packages (from newspaper3k) (0.35.1)\n",
            "Requirement already satisfied: python-dateutil>=2.5.3 in /usr/local/lib/python3.10/dist-packages (from newspaper3k) (2.8.2)\n",
            "Requirement already satisfied: tinysegmenter==0.3 in /usr/local/lib/python3.10/dist-packages (from newspaper3k) (0.3)\n",
            "Requirement already satisfied: soupsieve>1.2 in /usr/local/lib/python3.10/dist-packages (from beautifulsoup4>=4.4.1->newspaper3k) (2.6)\n",
            "Requirement already satisfied: six in /usr/local/lib/python3.10/dist-packages (from feedfinder2>=0.0.4->newspaper3k) (1.16.0)\n",
            "Requirement already satisfied: sgmllib3k in /usr/local/lib/python3.10/dist-packages (from feedparser>=5.2.1->newspaper3k) (1.0.0)\n",
            "Requirement already satisfied: click in /usr/local/lib/python3.10/dist-packages (from nltk>=3.2.1->newspaper3k) (8.1.7)\n",
            "Requirement already satisfied: joblib in /usr/local/lib/python3.10/dist-packages (from nltk>=3.2.1->newspaper3k) (1.4.2)\n",
            "Requirement already satisfied: regex>=2021.8.3 in /usr/local/lib/python3.10/dist-packages (from nltk>=3.2.1->newspaper3k) (2024.9.11)\n",
            "Requirement already satisfied: tqdm in /usr/local/lib/python3.10/dist-packages (from nltk>=3.2.1->newspaper3k) (4.66.6)\n",
            "Requirement already satisfied: charset-normalizer<4,>=2 in /usr/local/lib/python3.10/dist-packages (from requests>=2.10.0->newspaper3k) (3.4.0)\n",
            "Requirement already satisfied: idna<4,>=2.5 in /usr/local/lib/python3.10/dist-packages (from requests>=2.10.0->newspaper3k) (3.10)\n",
            "Requirement already satisfied: urllib3<3,>=1.21.1 in /usr/local/lib/python3.10/dist-packages (from requests>=2.10.0->newspaper3k) (2.2.3)\n",
            "Requirement already satisfied: certifi>=2017.4.17 in /usr/local/lib/python3.10/dist-packages (from requests>=2.10.0->newspaper3k) (2024.8.30)\n",
            "Requirement already satisfied: requests-file>=1.4 in /usr/local/lib/python3.10/dist-packages (from tldextract>=2.0.1->newspaper3k) (2.1.0)\n",
            "Requirement already satisfied: filelock>=3.0.8 in /usr/local/lib/python3.10/dist-packages (from tldextract>=2.0.1->newspaper3k) (3.16.1)\n",
            "Requirement already satisfied: lxml[html_clean] in /usr/local/lib/python3.10/dist-packages (5.3.0)\n",
            "Collecting lxml-html-clean (from lxml[html_clean])\n",
            "  Downloading lxml_html_clean-0.4.1-py3-none-any.whl.metadata (2.4 kB)\n",
            "Downloading lxml_html_clean-0.4.1-py3-none-any.whl (14 kB)\n",
            "Installing collected packages: lxml-html-clean\n",
            "Successfully installed lxml-html-clean-0.4.1\n"
          ]
        }
      ],
      "source": [
        "#Ejercicio 2\n",
        "!pip install newspaper3k\n",
        "!pip install \"lxml[html_clean]\""
      ]
    },
    {
      "cell_type": "code",
      "execution_count": null,
      "metadata": {
        "id": "JFtM6I3XD4oO"
      },
      "outputs": [],
      "source": [
        "#Paso 2: Importar las librerias necesarias\n",
        "from newspaper import Article\n",
        "import nltk\n",
        "import random\n",
        "import string\n",
        "from sklearn.feature_extraction.text import CountVectorizer\n",
        "from sklearn.metrics.pairwise import cosine_similarity\n",
        "import numpy as np\n",
        "import warnings\n",
        "warnings.filterwarnings('ignore')\n"
      ]
    },
    {
      "cell_type": "code",
      "execution_count": null,
      "metadata": {
        "id": "vfp-u1A0FTpE"
      },
      "outputs": [],
      "source": [
        "# Descargar el paquete 'punkt' para tokenización de texto, que divide cadenas en palabras o frases.\n",
        "nltk.download('punkt', quiet=True)\n",
        "\n",
        "# Descargar el paquete 'punkt' nuevamente, esta vez sin el parámetro 'quiet=True', mostrando el progreso.\n",
        "nltk.download('punkt')\n",
        "nltk.download('punkt_tab')"
      ]
    },
    {
      "cell_type": "code",
      "execution_count": null,
      "metadata": {
        "colab": {
          "base_uri": "https://localhost:8080/"
        },
        "id": "Hfzoe625GCE4",
        "outputId": "ba7af736-de20-41e9-e994-a92bc7b218a7"
      },
      "outputs": [
        {
          "name": "stdout",
          "output_type": "stream",
          "text": [
            "<newspaper.article.Article object at 0x7e64faf54b50>\n",
            "Los calambres menstruales (dismenorrea) son dolores punzantes en la parte inferior del abdomen. Muchas mujeres tienen calambres menstruales justo antes o durante sus períodos menstruales.\n",
            "\n",
            "Para algunas mujeres, la molestia es apenas dolorosa. Para otras, los calambres menstruales pueden ser lo suficientemente graves como para interferir con las actividades diarias durante algunos días cada mes.\n",
            "\n",
            "Algunas enfermedades, como la endometriosis o los fibromas uterinos, pueden causar calambres menstruales. Tratar la causa es esencial para reducir el dolor. Los calambres menstruales que no son causados por otra enfermedad suelen disminuir con la edad y a menudo mejoran después de dar a luz.\n"
          ]
        }
      ],
      "source": [
        "# Paso 3: Descargar el artículo desde la URL\n",
        "articulo = Article('https://www.mayoclinic.org/es/diseases-conditions/menstrual-cramps/symptoms-causes/syc-20374938')\n",
        "articulo.download()\n",
        "articulo.parse()\n",
        "articulo.nlp()\n",
        "corpus = articulo.text\n",
        "print(articulo)\n",
        "print(corpus)"
      ]
    },
    {
      "cell_type": "code",
      "execution_count": null,
      "metadata": {
        "colab": {
          "base_uri": "https://localhost:8080/"
        },
        "id": "JzcX7i_hHCkt",
        "outputId": "3f6da83d-484c-4aee-82a8-cd3830740273"
      },
      "outputs": [
        {
          "name": "stdout",
          "output_type": "stream",
          "text": [
            "['Los calambres menstruales (dismenorrea) son dolores punzantes en la parte inferior del abdomen.', 'Muchas mujeres tienen calambres menstruales justo antes o durante sus períodos menstruales.', 'Para algunas mujeres, la molestia es apenas dolorosa.', 'Para otras, los calambres menstruales pueden ser lo suficientemente graves como para interferir con las actividades diarias durante algunos días cada mes.', 'Algunas enfermedades, como la endometriosis o los fibromas uterinos, pueden causar calambres menstruales.', 'Tratar la causa es esencial para reducir el dolor.', 'Los calambres menstruales que no son causados por otra enfermedad suelen disminuir con la edad y a menudo mejoran después de dar a luz.']\n",
            "Los calambres menstruales (dismenorrea) son dolores punzantes en la parte inferior del abdomen.\n",
            "Muchas mujeres tienen calambres menstruales justo antes o durante sus períodos menstruales.\n",
            "Para algunas mujeres, la molestia es apenas dolorosa.\n",
            "Para otras, los calambres menstruales pueden ser lo suficientemente graves como para interferir con las actividades diarias durante algunos días cada mes.\n",
            "Algunas enfermedades, como la endometriosis o los fibromas uterinos, pueden causar calambres menstruales.\n",
            "Tratar la causa es esencial para reducir el dolor.\n",
            "Los calambres menstruales que no son causados por otra enfermedad suelen disminuir con la edad y a menudo mejoran después de dar a luz.\n"
          ]
        }
      ],
      "source": [
        "# Paso 4: Tokenizar el texto en oraciones\n",
        "texto = corpus\n",
        "lista_oraciones = nltk.sent_tokenize(texto)\n",
        "print(lista_oraciones)\n",
        "\n",
        "for oracion in lista_oraciones:\n",
        "    print(oracion)"
      ]
    },
    {
      "cell_type": "code",
      "execution_count": null,
      "metadata": {
        "id": "Dzwh4ObTHT0U"
      },
      "outputs": [],
      "source": [
        "# Paso 5: Función de respuesta a saludos\n",
        "def respuesta_saludo(texto):\n",
        "    texto = texto.lower()\n",
        "    saludos_bot = [\"hola\", \"qué tal\", \"buenas\", \"saludos\", \"cómo estás\"]\n",
        "    saludos_usuario = [\"hola\", \"buenas\", \"qué tal\", \"saludos\", \"cómo estás\"]\n",
        "\n",
        "    for palabra in texto.split():\n",
        "        if palabra in saludos_usuario:\n",
        "            return random.choice(saludos_bot)"
      ]
    },
    {
      "cell_type": "code",
      "execution_count": null,
      "metadata": {
        "colab": {
          "background_save": true,
          "base_uri": "https://localhost:8080/"
        },
        "id": "7Dq0rZ09IXSE",
        "outputId": "2589d3ab-ef59-479d-a4cb-bded68958deb"
      },
      "outputs": [
        {
          "name": "stdout",
          "output_type": "stream",
          "text": [
            "Doc Bot: Estoy aquí para responder tus preguntas sobre la Enfermedad calambres menstruales. Escribe 'adiós' para salir.\n",
            "Doc Bot: Algunas enfermedades, como la endometriosis o los fibromas uterinos, pueden causar calambres menstruales.\n",
            "Doc Bot: buenas\n",
            "Doc Bot: Algunas enfermedades, como la endometriosis o los fibromas uterinos, pueden causar calambres menstruales.\n",
            "Doc Bot: buenas\n",
            "Doc Bot: saludos\n",
            "Doc Bot: Lo siento, no entiendo.\n",
            "Doc Bot: Lo siento, no entiendo.\n",
            "Doc Bot: Lo siento, no entiendo.\n",
            "Doc Bot: Algunas enfermedades, como la endometriosis o los fibromas uterinos, pueden causar calambres menstruales.\n",
            "Doc Bot: Algunas enfermedades, como la endometriosis o los fibromas uterinos, pueden causar calambres menstruales.\n",
            "Doc Bot: Algunas enfermedades, como la endometriosis o los fibromas uterinos, pueden causar calambres menstruales.\n",
            "Doc Bot: Los calambres menstruales que no son causados por otra enfermedad suelen disminuir con la edad y a menudo mejoran después de dar a luz.\n",
            "Doc Bot: Muchas mujeres tienen calambres menstruales justo antes o durante sus períodos menstruales.\n",
            "Doc Bot: Para algunas mujeres, la molestia es apenas dolorosa.\n",
            "Doc Bot: Para algunas mujeres, la molestia es apenas dolorosa.\n",
            "Doc Bot: Para algunas mujeres, la molestia es apenas dolorosa.\n",
            "Doc Bot: Lo siento, no entiendo.\n",
            "Doc Bot: Lo siento, no entiendo.\n",
            "Doc Bot: Lo siento, no entiendo.\n",
            "Doc Bot: Lo siento, no entiendo.\n",
            "Doc Bot: Para otras, los calambres menstruales pueden ser lo suficientemente graves como para interferir con las actividades diarias durante algunos días cada mes.\n"
          ]
        }
      ],
      "source": [
        "# Paso 6: Función de respuesta del bot\n",
        "def respuesta_bot(entrada_usuario):\n",
        "    entrada_usuario = entrada_usuario.lower()\n",
        "    lista_oraciones.append(entrada_usuario)\n",
        "    respuesta = ''\n",
        "    vectorizador = CountVectorizer().fit_transform(lista_oraciones)\n",
        "    #print(vectorizador)\n",
        "\n",
        "    puntuaciones_similitud = cosine_similarity(vectorizador[-1], vectorizador)\n",
        "    #print(puntuaciones_similitud)\n",
        "    lista_puntuaciones_similitud = puntuaciones_similitud.flatten()\n",
        "    #print(lista_puntuaciones_similitud)\n",
        "    indice = lista_puntuaciones_similitud.argsort()[-2]\n",
        "    #print(indice)\n",
        "    puntuacion_similitud = lista_puntuaciones_similitud[indice]\n",
        "    #print(puntuacion_similitud)\n",
        "    aplanado = lista_puntuaciones_similitud.flatten()\n",
        "    aplanado.sort()\n",
        "    #print(aplanado)\n",
        "    tfidf_requerido = aplanado[-2]\n",
        "\n",
        "    if tfidf_requerido == 0:\n",
        "        respuesta = respuesta + \"Lo siento, no entiendo.\"\n",
        "    else:\n",
        "        respuesta = respuesta + lista_oraciones[indice]\n",
        "\n",
        "    lista_oraciones.remove(entrada_usuario)\n",
        "\n",
        "    return respuesta\n",
        "# Paso 7: Bucle de conversación principal\n",
        "print(\"Doc Bot: Estoy aquí para responder tus preguntas sobre la Enfermedad calambres menstruales. Escribe 'adiós' para salir.\")\n",
        "\n",
        "while True:\n",
        "    entrada_usuario = input(\"Tú: \")\n",
        "    if entrada_usuario.lower() in ['adiós', 'salir', 'terminar', 'quitar']:\n",
        "        print(\"Doc Bot: ¡Hasta luego!\")\n",
        "        break\n",
        "    else:\n",
        "        if respuesta_saludo(entrada_usuario) is not None:\n",
        "            print(\"Doc Bot: \" + respuesta_saludo(entrada_usuario))\n",
        "        else:\n",
        "            print(\"Doc Bot: \" + respuesta_bot(entrada_usuario))"
      ]
    }
  ],
  "metadata": {
    "colab": {
      "provenance": [],
      "include_colab_link": true
    },
    "kernelspec": {
      "display_name": "Python 3",
      "name": "python3"
    },
    "language_info": {
      "name": "python"
    }
  },
  "nbformat": 4,
  "nbformat_minor": 0
}