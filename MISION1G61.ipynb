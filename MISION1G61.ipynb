{
  "nbformat": 4,
  "nbformat_minor": 0,
  "metadata": {
    "colab": {
      "provenance": [],
      "include_colab_link": true
    },
    "kernelspec": {
      "name": "python3",
      "display_name": "Python 3"
    },
    "language_info": {
      "name": "python"
    }
  },
  "cells": [
    {
      "cell_type": "markdown",
      "metadata": {
        "id": "view-in-github",
        "colab_type": "text"
      },
      "source": [
        "<a href=\"https://colab.research.google.com/github/8ctal/IA_Course_Talento_Tech/blob/main/MISION1G61.ipynb\" target=\"_parent\"><img src=\"https://colab.research.google.com/assets/colab-badge.svg\" alt=\"Open In Colab\"/></a>"
      ]
    },
    {
      "cell_type": "code",
      "execution_count": null,
      "metadata": {
        "colab": {
          "base_uri": "https://localhost:8080/"
        },
        "id": "rATSLYNxOddk",
        "outputId": "72e6954d-508a-4300-9bf8-5b41f49f63ab"
      },
      "outputs": [
        {
          "output_type": "stream",
          "name": "stdout",
          "text": [
            "silvia\n",
            "27\n",
            "1.66\n",
            "Hola mundo\n",
            "<class 'str'>\n",
            "<class 'int'>\n",
            "<class 'float'>\n"
          ]
        }
      ],
      "source": [
        "nombre=\"silvia\"\n",
        "edad=27\n",
        "altura=1.66\n",
        "print(nombre)\n",
        "print(edad)\n",
        "print(altura)\n",
        "print(\"Hola mundo\")\n",
        "print(type(nombre))\n",
        "print(type(edad))\n",
        "print(type(altura))"
      ]
    },
    {
      "cell_type": "code",
      "source": [
        "def saludo1():\n",
        "  print(\"Buenos días\")\n",
        "\n",
        "def saludo2():\n",
        "  print(\"Buenas tardes\")\n",
        "\n",
        "def saludo3():\n",
        "  print(\"Buenas noches\")\n",
        "\n",
        "#Llamado de funciones\n",
        "saludo1()"
      ],
      "metadata": {
        "colab": {
          "base_uri": "https://localhost:8080/"
        },
        "id": "Q-wvFlH-_2PE",
        "outputId": "4454b08a-d4a9-4e94-ab84-587480979609"
      },
      "execution_count": null,
      "outputs": [
        {
          "output_type": "stream",
          "name": "stdout",
          "text": [
            "Buenos días\n"
          ]
        }
      ]
    },
    {
      "cell_type": "code",
      "source": [
        "print(\"Bienvenido a la encuesta del DANE\")\n",
        "print(\"Por favor ingresa tus datos en el orden indicado: ....\")\n",
        "nombre=input(\"Indica tu nombre: \")\n",
        "edad=int(input(\"Indica tu edad: \"))\n",
        "altura=float(input(\"Indica tu altura:\"))\n",
        "añoNacimiento=int(input(\"Indica tu año de nacimiento: \"))\n",
        "print(\"Gracias por tu tiempo\")"
      ],
      "metadata": {
        "colab": {
          "base_uri": "https://localhost:8080/"
        },
        "id": "oX9sonTFCwZc",
        "outputId": "4d92848f-d1d7-4f76-9c68-ad52ed75b4c2"
      },
      "execution_count": null,
      "outputs": [
        {
          "output_type": "stream",
          "name": "stdout",
          "text": [
            "Bienvenido a la encuesta del DANE\n",
            "Por favor ingresa tus datos en el orden indicado: ....\n",
            "Indica tu nombre: Silvia\n",
            "Indica tu edad: 27\n",
            "Indica tu altura:1.66\n",
            "Indica tu año de nacimiento: 1997\n",
            "Gracias por tu tiempo\n"
          ]
        }
      ]
    },
    {
      "cell_type": "code",
      "source": [
        "print(\"Muchas gracias\", nombre, \" por completar los datos.\")"
      ],
      "metadata": {
        "colab": {
          "base_uri": "https://localhost:8080/"
        },
        "id": "cTTERWxLDbm0",
        "outputId": "3f6873ef-22bd-4ffa-fb4f-385af1d5cd88"
      },
      "execution_count": null,
      "outputs": [
        {
          "output_type": "stream",
          "name": "stdout",
          "text": [
            "Muchas gracias Silvia  por completar los datos.\n"
          ]
        }
      ]
    },
    {
      "cell_type": "code",
      "source": [
        "print(\"Tipos de datos en las variables de formulario\")\n",
        "print(\"Nombre: \", type(nombre))\n",
        "print(\"Edad: \", type(edad))\n",
        "print(\"Altura: \", type(altura))\n",
        "print(\"Año de nacimiento: \", type(añoNacimiento))"
      ],
      "metadata": {
        "colab": {
          "base_uri": "https://localhost:8080/"
        },
        "id": "SEnOHUqBFiq3",
        "outputId": "583fd1ba-1e5d-40a1-e2ac-025dcd0eea66"
      },
      "execution_count": null,
      "outputs": [
        {
          "output_type": "stream",
          "name": "stdout",
          "text": [
            "Tipos de datos en las variables de formulario\n",
            "Nombre:  <class 'str'>\n",
            "Edad:  <class 'int'>\n",
            "Altura:  <class 'float'>\n",
            "Año de nacimiento:  <class 'int'>\n"
          ]
        }
      ]
    },
    {
      "cell_type": "code",
      "source": [
        "print(\"Tu edad es: \", (2024-añoNacimiento))"
      ],
      "metadata": {
        "colab": {
          "base_uri": "https://localhost:8080/"
        },
        "id": "7cbLcvdsIICG",
        "outputId": "32dc0581-2c80-467e-e30b-983380aed5ec"
      },
      "execution_count": null,
      "outputs": [
        {
          "output_type": "stream",
          "name": "stdout",
          "text": [
            "Tu edad es:  27\n"
          ]
        }
      ]
    },
    {
      "cell_type": "code",
      "source": [
        "#Operaciones basicas matematicas en variables\n",
        "suma=edad+altura\n",
        "resta=edad-altura\n",
        "multiplicacion=edad*altura\n",
        "division=edad/altura\n",
        "print(\"Suma: \", suma)\n",
        "print(\"Resta: \", resta)\n",
        "print(\"Multiplicacion: \", multiplicacion)\n",
        "print(\"Division: \", division)\n"
      ],
      "metadata": {
        "colab": {
          "base_uri": "https://localhost:8080/"
        },
        "id": "D_9njntyIeRW",
        "outputId": "078159de-8398-4348-c106-90cd67c929a3"
      },
      "execution_count": null,
      "outputs": [
        {
          "output_type": "stream",
          "name": "stdout",
          "text": [
            "Suma:  28.66\n",
            "Resta:  25.34\n",
            "Multiplicacion:  44.82\n",
            "Division:  16.265060240963855\n"
          ]
        }
      ]
    },
    {
      "cell_type": "markdown",
      "source": [
        "Ejercicio practico #1\n",
        "Ejercicio 1: Calculadora de área\n",
        "Crea un programa que solicite al usuario ingresar el ancho y el alto de un rectángulo.\n",
        "Almacena los valores en variables y calcula el área del rectángulo.\n",
        "Muestra el resultado en pantalla con un mensaje como: \"El área del rectángulo es: [resultado]\"."
      ],
      "metadata": {
        "id": "XFAANIWiK_Cv"
      }
    },
    {
      "cell_type": "code",
      "source": [
        "#Solucion del ejercicio 1\n",
        "#Paso 1 y paso 2\n",
        "ancho=float(input(\"Indica el ancho de tu rectángulo: \"))\n",
        "alto=float(input(\"Indica el alto de tu rectángulo: \"))"
      ],
      "metadata": {
        "colab": {
          "base_uri": "https://localhost:8080/"
        },
        "id": "UtVUvrP2O9ob",
        "outputId": "d8e7e9b9-1908-4c08-a4bc-e2b7c59d9b73"
      },
      "execution_count": null,
      "outputs": [
        {
          "name": "stdout",
          "output_type": "stream",
          "text": [
            "Indica el ancho de tu rectángulo: 2\n",
            "Indica el alto de tu rectángulo: 3\n"
          ]
        }
      ]
    },
    {
      "cell_type": "code",
      "source": [
        "#Paso 3\n",
        "Area = ancho * alto\n",
        "print(Area)"
      ],
      "metadata": {
        "colab": {
          "base_uri": "https://localhost:8080/"
        },
        "id": "7v4s08gpPn1k",
        "outputId": "7ea30345-52aa-4930-c35b-c0a045278fe6"
      },
      "execution_count": null,
      "outputs": [
        {
          "output_type": "stream",
          "name": "stdout",
          "text": [
            "6.0\n"
          ]
        }
      ]
    },
    {
      "cell_type": "code",
      "source": [
        "#Paso 4\n",
        "print(\"El área del rectángulo es: \", Area)"
      ],
      "metadata": {
        "colab": {
          "base_uri": "https://localhost:8080/"
        },
        "id": "-fQNaRMkP_8u",
        "outputId": "92c289f9-a55d-4a71-fa64-34b4e95946ce"
      },
      "execution_count": null,
      "outputs": [
        {
          "output_type": "stream",
          "name": "stdout",
          "text": [
            "El área del rectángulo es:  6.0\n"
          ]
        }
      ]
    },
    {
      "cell_type": "code",
      "source": [
        "#Forma de solucion 2 - como funciones\n",
        "\n",
        "def calcularAreaRectangulo(ancho, alto):\n",
        "  Area=ancho*alto\n",
        "  return Area\n",
        "\n",
        "calcularAreaRectangulo(2,3)"
      ],
      "metadata": {
        "colab": {
          "base_uri": "https://localhost:8080/"
        },
        "id": "CcSy-1KHQaib",
        "outputId": "4f328b0b-c764-49b6-860e-e7a405d954f5"
      },
      "execution_count": null,
      "outputs": [
        {
          "output_type": "execute_result",
          "data": {
            "text/plain": [
              "6"
            ]
          },
          "metadata": {},
          "execution_count": 22
        }
      ]
    },
    {
      "cell_type": "code",
      "source": [
        "#CONDICIONALES"
      ],
      "metadata": {
        "id": "hLFHfVE4XTMR"
      },
      "execution_count": null,
      "outputs": []
    },
    {
      "cell_type": "code",
      "source": [
        "#forma 1\n",
        "numero=int(input(\"Escriba su número favorito: \"))\n",
        "\n",
        "if(numero>0):\n",
        "  print(\"Es positivo\")"
      ],
      "metadata": {
        "colab": {
          "base_uri": "https://localhost:8080/"
        },
        "id": "o-mzOVz0OcEt",
        "outputId": "a2797e3e-3450-44fa-ef25-00ed769283c4"
      },
      "execution_count": null,
      "outputs": [
        {
          "name": "stdout",
          "output_type": "stream",
          "text": [
            "Escriba su número favorito: -33\n"
          ]
        }
      ]
    },
    {
      "cell_type": "code",
      "source": [
        "#froma 2\n",
        "numero=int(input(\"Escriba su número favorito: \"))\n",
        "\n",
        "if(numero>0):\n",
        "  print(\"Es positivo\")\n",
        "else:\n",
        "  print(\"No es positivo\")\n"
      ],
      "metadata": {
        "colab": {
          "base_uri": "https://localhost:8080/"
        },
        "id": "W6UpvsFyPZls",
        "outputId": "de24880b-eadb-469f-99b6-b426fd4db950"
      },
      "execution_count": null,
      "outputs": [
        {
          "output_type": "stream",
          "name": "stdout",
          "text": [
            "Escriba su número favorito: -33\n",
            "No es positivo\n"
          ]
        }
      ]
    },
    {
      "cell_type": "code",
      "source": [
        "#froma 3\n",
        "numero=int(input(\"Escriba su número favorito: \"))\n",
        "\n",
        "if(numero>0):\n",
        "  print(\"Es positivo\")\n",
        "elif (numero==0):\n",
        "  print(\"Numero es cero\")\n",
        "else:\n",
        "  print(\"Es negativo\")"
      ],
      "metadata": {
        "colab": {
          "base_uri": "https://localhost:8080/"
        },
        "id": "k348g53yP82G",
        "outputId": "bc0e67bf-0efc-4e6a-f019-cc59d96d2bfd"
      },
      "execution_count": null,
      "outputs": [
        {
          "output_type": "stream",
          "name": "stdout",
          "text": [
            "Escriba su número favorito: 0\n",
            "Numero es cero\n"
          ]
        }
      ]
    },
    {
      "cell_type": "code",
      "source": [
        "#Compara edades e indica quien es menor o mayor de edad. Joven, adulto o adulto mayor.\n",
        "edad=int(input(\"Por favor ingresa tu edad: \"))\n",
        "\n",
        "if(edad>0 and edad<18):\n",
        "  print(\"Eres menor de edad\")\n",
        "else:\n",
        "  print(\"Eres mayor de edad\")\n",
        "\n",
        "if(edad>0 and edad<18):\n",
        "  print(\"Eres menor de edad y eres un joven\")\n",
        "elif (edad>=18 and edad<65):\n",
        "  print(\"Eres un adulto\")\n",
        "else:\n",
        "  print(\"Eres mayor de edad\")"
      ],
      "metadata": {
        "colab": {
          "base_uri": "https://localhost:8080/"
        },
        "id": "wv_XNR3PSMmx",
        "outputId": "a10978a4-e003-4189-efbd-a474da3af0b9"
      },
      "execution_count": null,
      "outputs": [
        {
          "output_type": "stream",
          "name": "stdout",
          "text": [
            "Por favor ingresa tu edad: -2\n",
            "Eres mayor de edad\n",
            "Eres mayor de edad\n"
          ]
        }
      ]
    },
    {
      "cell_type": "code",
      "source": [
        "casado=input(\"Eres casado?\")\n",
        "hijos=False\n",
        "print(type(casado))\n",
        "print(casado)\n",
        "if(casado==\"True\" or casado==\"Si\" or casado==\"Verdadero\"):\n",
        "  print(\"Si soy casado\")\n",
        "elif(hijos==False):\n",
        "  print(\"Felicitaciones eres libre\")\n",
        "else:\n",
        "  print(\"No estoy casado\")"
      ],
      "metadata": {
        "colab": {
          "base_uri": "https://localhost:8080/"
        },
        "id": "xaseIOxTVEwv",
        "outputId": "98c9b789-1173-4449-dfb5-327ab219b022"
      },
      "execution_count": null,
      "outputs": [
        {
          "output_type": "stream",
          "name": "stdout",
          "text": [
            "Eres casado?No se\n",
            "<class 'str'>\n",
            "No se\n",
            "Felicitaciones eres libre\n"
          ]
        }
      ]
    },
    {
      "cell_type": "code",
      "source": [
        "#Operador ternario\n",
        "prueba=False\n",
        "resultado= \"verdadero\" if prueba else \"falso\"\n",
        "print(resultado)"
      ],
      "metadata": {
        "colab": {
          "base_uri": "https://localhost:8080/"
        },
        "id": "jjfX0jpsYvFb",
        "outputId": "d73ef22b-e2b9-4cc7-f96f-d947a306e438"
      },
      "execution_count": null,
      "outputs": [
        {
          "output_type": "stream",
          "name": "stdout",
          "text": [
            "falso\n"
          ]
        }
      ]
    },
    {
      "cell_type": "code",
      "source": [
        "cuantosEstudiantes=int(input(\"Cuantos estudiantes tienes?\"))\n",
        "contador=1\n",
        "while(contador<=cuantosEstudiantes):\n",
        "  edad=int(input(\"Dame la edad del estudiante \" + str(contador) +\" : \"  ))\n",
        "  contador=contador+1"
      ],
      "metadata": {
        "colab": {
          "base_uri": "https://localhost:8080/"
        },
        "id": "prFuhfuDY98f",
        "outputId": "b87b11b0-b649-4273-8a36-ffe3dca2c1ca"
      },
      "execution_count": null,
      "outputs": [
        {
          "name": "stdout",
          "output_type": "stream",
          "text": [
            "Cuantos estudiantes tienes?3\n",
            "Dame la edad del estudiante 1 : 15\n",
            "Dame la edad del estudiante 2 : 20\n",
            "Dame la edad del estudiante 3 : 30\n"
          ]
        }
      ]
    },
    {
      "cell_type": "code",
      "source": [
        "for i in range(5):\n",
        "  print(i)"
      ],
      "metadata": {
        "colab": {
          "base_uri": "https://localhost:8080/"
        },
        "id": "9ZfVn6VRdK6O",
        "outputId": "f067e1a7-6db5-4bd0-9150-afa7e990f8a1"
      },
      "execution_count": null,
      "outputs": [
        {
          "output_type": "stream",
          "name": "stdout",
          "text": [
            "0\n",
            "1\n",
            "2\n",
            "3\n",
            "4\n"
          ]
        }
      ]
    },
    {
      "cell_type": "code",
      "source": [
        "listaFrutas=[\"Mango\", \"Banano\", \"Fresa\"]\n",
        "for fruta in listaFrutas:\n",
        "  print(fruta)"
      ],
      "metadata": {
        "colab": {
          "base_uri": "https://localhost:8080/"
        },
        "id": "P6Tx0K3UdyH9",
        "outputId": "1c6b1b61-b00a-4b36-f622-0ac9294ac619"
      },
      "execution_count": null,
      "outputs": [
        {
          "output_type": "stream",
          "name": "stdout",
          "text": [
            "Mango\n",
            "Banano\n",
            "Fresa\n"
          ]
        }
      ]
    },
    {
      "cell_type": "markdown",
      "source": [
        "MACHINE LEARNING : APRENDIZAJE SUPERVISADO"
      ],
      "metadata": {
        "id": "AvaP8XV0kiH8"
      }
    },
    {
      "cell_type": "code",
      "source": [
        "from google.colab import files\n",
        "uploaded = files.upload()"
      ],
      "metadata": {
        "colab": {
          "base_uri": "https://localhost:8080/",
          "height": 71
        },
        "id": "Kaj4_R7Hklco",
        "outputId": "8ef56bfe-8588-47c9-f6e9-b182e5892037"
      },
      "execution_count": null,
      "outputs": [
        {
          "output_type": "display_data",
          "data": {
            "text/plain": [
              "<IPython.core.display.HTML object>"
            ],
            "text/html": [
              "\n",
              "     <input type=\"file\" id=\"files-cef69e81-8216-4df6-9ff4-5a895cb37d86\" name=\"files[]\" multiple disabled\n",
              "        style=\"border:none\" />\n",
              "     <output id=\"result-cef69e81-8216-4df6-9ff4-5a895cb37d86\">\n",
              "      Upload widget is only available when the cell has been executed in the\n",
              "      current browser session. Please rerun this cell to enable.\n",
              "      </output>\n",
              "      <script>// Copyright 2017 Google LLC\n",
              "//\n",
              "// Licensed under the Apache License, Version 2.0 (the \"License\");\n",
              "// you may not use this file except in compliance with the License.\n",
              "// You may obtain a copy of the License at\n",
              "//\n",
              "//      http://www.apache.org/licenses/LICENSE-2.0\n",
              "//\n",
              "// Unless required by applicable law or agreed to in writing, software\n",
              "// distributed under the License is distributed on an \"AS IS\" BASIS,\n",
              "// WITHOUT WARRANTIES OR CONDITIONS OF ANY KIND, either express or implied.\n",
              "// See the License for the specific language governing permissions and\n",
              "// limitations under the License.\n",
              "\n",
              "/**\n",
              " * @fileoverview Helpers for google.colab Python module.\n",
              " */\n",
              "(function(scope) {\n",
              "function span(text, styleAttributes = {}) {\n",
              "  const element = document.createElement('span');\n",
              "  element.textContent = text;\n",
              "  for (const key of Object.keys(styleAttributes)) {\n",
              "    element.style[key] = styleAttributes[key];\n",
              "  }\n",
              "  return element;\n",
              "}\n",
              "\n",
              "// Max number of bytes which will be uploaded at a time.\n",
              "const MAX_PAYLOAD_SIZE = 100 * 1024;\n",
              "\n",
              "function _uploadFiles(inputId, outputId) {\n",
              "  const steps = uploadFilesStep(inputId, outputId);\n",
              "  const outputElement = document.getElementById(outputId);\n",
              "  // Cache steps on the outputElement to make it available for the next call\n",
              "  // to uploadFilesContinue from Python.\n",
              "  outputElement.steps = steps;\n",
              "\n",
              "  return _uploadFilesContinue(outputId);\n",
              "}\n",
              "\n",
              "// This is roughly an async generator (not supported in the browser yet),\n",
              "// where there are multiple asynchronous steps and the Python side is going\n",
              "// to poll for completion of each step.\n",
              "// This uses a Promise to block the python side on completion of each step,\n",
              "// then passes the result of the previous step as the input to the next step.\n",
              "function _uploadFilesContinue(outputId) {\n",
              "  const outputElement = document.getElementById(outputId);\n",
              "  const steps = outputElement.steps;\n",
              "\n",
              "  const next = steps.next(outputElement.lastPromiseValue);\n",
              "  return Promise.resolve(next.value.promise).then((value) => {\n",
              "    // Cache the last promise value to make it available to the next\n",
              "    // step of the generator.\n",
              "    outputElement.lastPromiseValue = value;\n",
              "    return next.value.response;\n",
              "  });\n",
              "}\n",
              "\n",
              "/**\n",
              " * Generator function which is called between each async step of the upload\n",
              " * process.\n",
              " * @param {string} inputId Element ID of the input file picker element.\n",
              " * @param {string} outputId Element ID of the output display.\n",
              " * @return {!Iterable<!Object>} Iterable of next steps.\n",
              " */\n",
              "function* uploadFilesStep(inputId, outputId) {\n",
              "  const inputElement = document.getElementById(inputId);\n",
              "  inputElement.disabled = false;\n",
              "\n",
              "  const outputElement = document.getElementById(outputId);\n",
              "  outputElement.innerHTML = '';\n",
              "\n",
              "  const pickedPromise = new Promise((resolve) => {\n",
              "    inputElement.addEventListener('change', (e) => {\n",
              "      resolve(e.target.files);\n",
              "    });\n",
              "  });\n",
              "\n",
              "  const cancel = document.createElement('button');\n",
              "  inputElement.parentElement.appendChild(cancel);\n",
              "  cancel.textContent = 'Cancel upload';\n",
              "  const cancelPromise = new Promise((resolve) => {\n",
              "    cancel.onclick = () => {\n",
              "      resolve(null);\n",
              "    };\n",
              "  });\n",
              "\n",
              "  // Wait for the user to pick the files.\n",
              "  const files = yield {\n",
              "    promise: Promise.race([pickedPromise, cancelPromise]),\n",
              "    response: {\n",
              "      action: 'starting',\n",
              "    }\n",
              "  };\n",
              "\n",
              "  cancel.remove();\n",
              "\n",
              "  // Disable the input element since further picks are not allowed.\n",
              "  inputElement.disabled = true;\n",
              "\n",
              "  if (!files) {\n",
              "    return {\n",
              "      response: {\n",
              "        action: 'complete',\n",
              "      }\n",
              "    };\n",
              "  }\n",
              "\n",
              "  for (const file of files) {\n",
              "    const li = document.createElement('li');\n",
              "    li.append(span(file.name, {fontWeight: 'bold'}));\n",
              "    li.append(span(\n",
              "        `(${file.type || 'n/a'}) - ${file.size} bytes, ` +\n",
              "        `last modified: ${\n",
              "            file.lastModifiedDate ? file.lastModifiedDate.toLocaleDateString() :\n",
              "                                    'n/a'} - `));\n",
              "    const percent = span('0% done');\n",
              "    li.appendChild(percent);\n",
              "\n",
              "    outputElement.appendChild(li);\n",
              "\n",
              "    const fileDataPromise = new Promise((resolve) => {\n",
              "      const reader = new FileReader();\n",
              "      reader.onload = (e) => {\n",
              "        resolve(e.target.result);\n",
              "      };\n",
              "      reader.readAsArrayBuffer(file);\n",
              "    });\n",
              "    // Wait for the data to be ready.\n",
              "    let fileData = yield {\n",
              "      promise: fileDataPromise,\n",
              "      response: {\n",
              "        action: 'continue',\n",
              "      }\n",
              "    };\n",
              "\n",
              "    // Use a chunked sending to avoid message size limits. See b/62115660.\n",
              "    let position = 0;\n",
              "    do {\n",
              "      const length = Math.min(fileData.byteLength - position, MAX_PAYLOAD_SIZE);\n",
              "      const chunk = new Uint8Array(fileData, position, length);\n",
              "      position += length;\n",
              "\n",
              "      const base64 = btoa(String.fromCharCode.apply(null, chunk));\n",
              "      yield {\n",
              "        response: {\n",
              "          action: 'append',\n",
              "          file: file.name,\n",
              "          data: base64,\n",
              "        },\n",
              "      };\n",
              "\n",
              "      let percentDone = fileData.byteLength === 0 ?\n",
              "          100 :\n",
              "          Math.round((position / fileData.byteLength) * 100);\n",
              "      percent.textContent = `${percentDone}% done`;\n",
              "\n",
              "    } while (position < fileData.byteLength);\n",
              "  }\n",
              "\n",
              "  // All done.\n",
              "  yield {\n",
              "    response: {\n",
              "      action: 'complete',\n",
              "    }\n",
              "  };\n",
              "}\n",
              "\n",
              "scope.google = scope.google || {};\n",
              "scope.google.colab = scope.google.colab || {};\n",
              "scope.google.colab._files = {\n",
              "  _uploadFiles,\n",
              "  _uploadFilesContinue,\n",
              "};\n",
              "})(self);\n",
              "</script> "
            ]
          },
          "metadata": {}
        },
        {
          "output_type": "stream",
          "name": "stdout",
          "text": [
            "Saving spam_detection_example.csv to spam_detection_example.csv\n"
          ]
        }
      ]
    },
    {
      "cell_type": "code",
      "source": [
        "#Paso 1 - uso de libreria para capturar la informacion dentro del archivo csv.\n",
        "import pandas as pd\n",
        "data=pd.read_csv(\"spam_detection_example.csv\", encoding=\"latin-1\")\n",
        "print(data)\n",
        "print(type(data))"
      ],
      "metadata": {
        "colab": {
          "base_uri": "https://localhost:8080/"
        },
        "id": "a3ek5RVXln7x",
        "outputId": "e1718123-465b-43b9-a053-a38d58eb64f1"
      },
      "execution_count": null,
      "outputs": [
        {
          "output_type": "stream",
          "name": "stdout",
          "text": [
            "  label                                            message\n",
            "0   ham                            Hey, how are you doing?\n",
            "1  spam                         Win a $1000 gift card now!\n",
            "2   ham                Are we still on for lunch tomorrow?\n",
            "3  spam  Congratulations! You have been selected for a ...\n",
            "4   ham                  Don't forget the meeting at 10 AM\n",
            "5   ham                          See you at the gym later?\n",
            "6  spam                    Click here to claim your reward\n",
            "7  spam                       Earn money quickly from home\n",
            "8   ham                        Can you send me the report?\n",
            "9  spam                     You won a free trip to Bahamas\n",
            "<class 'pandas.core.frame.DataFrame'>\n"
          ]
        }
      ]
    },
    {
      "cell_type": "code",
      "source": [
        "print(data.head())"
      ],
      "metadata": {
        "colab": {
          "base_uri": "https://localhost:8080/"
        },
        "id": "5COzSV4JofZc",
        "outputId": "198c58d4-77fc-498d-c18e-4d4937002aeb"
      },
      "execution_count": null,
      "outputs": [
        {
          "output_type": "stream",
          "name": "stdout",
          "text": [
            "  label                                            message\n",
            "0   ham                            Hey, how are you doing?\n",
            "1  spam                         Win a $1000 gift card now!\n",
            "2   ham                Are we still on for lunch tomorrow?\n",
            "3  spam  Congratulations! You have been selected for a ...\n",
            "4   ham                  Don't forget the meeting at 10 AM\n"
          ]
        }
      ]
    },
    {
      "cell_type": "code",
      "source": [
        "#Paso 2 - reconocer que es x-variable independiente , y- variable dependiente\n",
        "y=data[\"label\"]\n",
        "x=data[\"message\"]\n",
        "print(x)\n",
        "print(y)"
      ],
      "metadata": {
        "colab": {
          "base_uri": "https://localhost:8080/"
        },
        "id": "Mep33Dh0pKrG",
        "outputId": "f4da910c-a99c-40d5-d9f5-08703646ba85"
      },
      "execution_count": null,
      "outputs": [
        {
          "output_type": "stream",
          "name": "stdout",
          "text": [
            "0                              Hey, how are you doing?\n",
            "1                           Win a $1000 gift card now!\n",
            "2                  Are we still on for lunch tomorrow?\n",
            "3    Congratulations! You have been selected for a ...\n",
            "4                    Don't forget the meeting at 10 AM\n",
            "5                            See you at the gym later?\n",
            "6                      Click here to claim your reward\n",
            "7                         Earn money quickly from home\n",
            "8                          Can you send me the report?\n",
            "9                       You won a free trip to Bahamas\n",
            "Name: message, dtype: object\n",
            "0     ham\n",
            "1    spam\n",
            "2     ham\n",
            "3    spam\n",
            "4     ham\n",
            "5     ham\n",
            "6    spam\n",
            "7    spam\n",
            "8     ham\n",
            "9    spam\n",
            "Name: label, dtype: object\n"
          ]
        }
      ]
    },
    {
      "cell_type": "code",
      "source": [
        "#Reconocer que es una columna de numeros, que es una columna de categorias\n",
        "#Paso 3: transformar las categorias a numeros\n",
        "print(data.info())\n",
        "#Paso 4:\n",
        "data[\"label\"]=data[\"label\"].map({\"ham\":0, \"spam\":1})\n",
        "print(data.head())"
      ],
      "metadata": {
        "colab": {
          "base_uri": "https://localhost:8080/"
        },
        "id": "Sk2MWRwTqYTv",
        "outputId": "be61eda4-fea8-40ac-fd03-f54b082ba11b"
      },
      "execution_count": null,
      "outputs": [
        {
          "output_type": "stream",
          "name": "stdout",
          "text": [
            "<class 'pandas.core.frame.DataFrame'>\n",
            "RangeIndex: 10 entries, 0 to 9\n",
            "Data columns (total 2 columns):\n",
            " #   Column   Non-Null Count  Dtype \n",
            "---  ------   --------------  ----- \n",
            " 0   label    10 non-null     object\n",
            " 1   message  10 non-null     object\n",
            "dtypes: object(2)\n",
            "memory usage: 288.0+ bytes\n",
            "None\n",
            "   label                                            message\n",
            "0      0                            Hey, how are you doing?\n",
            "1      1                         Win a $1000 gift card now!\n",
            "2      0                Are we still on for lunch tomorrow?\n",
            "3      1  Congratulations! You have been selected for a ...\n",
            "4      0                  Don't forget the meeting at 10 AM\n"
          ]
        }
      ]
    },
    {
      "cell_type": "code",
      "source": [
        "#Paso 5: Dividir los datos en conjutnos de entrenamiento\n",
        "from sklearn.model_selection import train_test_split\n",
        "X_train, X_test, y_train, y_test=train_test_split(x, y, test_size=0.2, random_state=42)\n",
        "print(X_train)\n",
        "print(y_train)"
      ],
      "metadata": {
        "colab": {
          "base_uri": "https://localhost:8080/"
        },
        "id": "WVsHspCxtDIs",
        "outputId": "523aabbc-8b40-48c5-b147-1dae28cd26b9"
      },
      "execution_count": null,
      "outputs": [
        {
          "output_type": "stream",
          "name": "stdout",
          "text": [
            "5                            See you at the gym later?\n",
            "0                              Hey, how are you doing?\n",
            "7                         Earn money quickly from home\n",
            "2                  Are we still on for lunch tomorrow?\n",
            "9                       You won a free trip to Bahamas\n",
            "4                    Don't forget the meeting at 10 AM\n",
            "3    Congratulations! You have been selected for a ...\n",
            "6                      Click here to claim your reward\n",
            "Name: message, dtype: object\n",
            "5     ham\n",
            "0     ham\n",
            "7    spam\n",
            "2     ham\n",
            "9    spam\n",
            "4     ham\n",
            "3    spam\n",
            "6    spam\n",
            "Name: label, dtype: object\n"
          ]
        }
      ]
    },
    {
      "cell_type": "code",
      "source": [
        "print(data.info())"
      ],
      "metadata": {
        "colab": {
          "base_uri": "https://localhost:8080/"
        },
        "id": "4WZ_UIqJywLf",
        "outputId": "72acbd9d-81e4-4ebb-8c08-cdcae6a0a1ea"
      },
      "execution_count": null,
      "outputs": [
        {
          "output_type": "stream",
          "name": "stdout",
          "text": [
            "<class 'pandas.core.frame.DataFrame'>\n",
            "RangeIndex: 10 entries, 0 to 9\n",
            "Data columns (total 2 columns):\n",
            " #   Column   Non-Null Count  Dtype \n",
            "---  ------   --------------  ----- \n",
            " 0   label    10 non-null     int64 \n",
            " 1   message  10 non-null     object\n",
            "dtypes: int64(1), object(1)\n",
            "memory usage: 288.0+ bytes\n",
            "None\n"
          ]
        }
      ]
    },
    {
      "cell_type": "code",
      "source": [
        "#paso 6 = vectorizar los mensajes de forma magica\n",
        "from sklearn.feature_extraction.text import CountVectorizer\n",
        "\n",
        "vectorizer=CountVectorizer()\n",
        "X_train_transformed = vectorizer.fit_transform(X_train)\n",
        "X_test_transformed = vectorizer.transform(X_test)\n",
        "\n",
        "print(X_test_transformed)"
      ],
      "metadata": {
        "colab": {
          "base_uri": "https://localhost:8080/"
        },
        "id": "23iSdzp84yga",
        "outputId": "6b592d3d-97b6-4344-e197-12747df871e8"
      },
      "execution_count": null,
      "outputs": [
        {
          "output_type": "stream",
          "name": "stdout",
          "text": [
            "  (0, 33)\t1\n",
            "  (0, 39)\t1\n"
          ]
        }
      ]
    },
    {
      "cell_type": "code",
      "source": [
        "#Paso 7 = Seleccion de modelo y puesta en marcha\n",
        "from sklearn.naive_bayes import MultinomialNB #Cambiar funcion a importar\n",
        "\n",
        "model = MultinomialNB() #Cambiar la funcion a importar\n",
        "model.fit(X_train_transformed, y_train)\n",
        "y_pred = model.predict(X_test_transformed)\n",
        "print(X_test)\n",
        "print(y_test)\n",
        "print(y_pred)\n"
      ],
      "metadata": {
        "colab": {
          "base_uri": "https://localhost:8080/"
        },
        "id": "g0Lgf6M0Ca9l",
        "outputId": "1cc4531e-cb12-4020-f553-b7bcf687f9cc"
      },
      "execution_count": null,
      "outputs": [
        {
          "output_type": "stream",
          "name": "stdout",
          "text": [
            "8    Can you send me the report?\n",
            "1     Win a $1000 gift card now!\n",
            "Name: message, dtype: object\n",
            "8     ham\n",
            "1    spam\n",
            "Name: label, dtype: object\n",
            "['ham' 'ham']\n"
          ]
        }
      ]
    },
    {
      "cell_type": "code",
      "source": [
        "# Paso 7 = Selección de modelo y puesta en marcha\n",
        "from sklearn.naive_bayes import MultinomialNB\n",
        "from sklearn.neighbors import KNeighborsClassifier\n",
        "from sklearn.linear_model import LogisticRegression\n",
        "from sklearn.tree import DecisionTreeClassifier\n",
        "from sklearn.ensemble import RandomForestClassifier\n",
        "from sklearn.svm import SVC\n",
        "\n",
        "# Lista de modelos a evaluar\n",
        "models = {\n",
        "    \"Naive Bayes\": MultinomialNB(),\n",
        "    \"K-Nearest Neighbors\": KNeighborsClassifier(),\n",
        "    \"Logistic Regression\": LogisticRegression(),\n",
        "    \"Decision Tree\": DecisionTreeClassifier(),\n",
        "    \"Random Forest\": RandomForestClassifier(),\n",
        "    \"Support Vector Classifier\": SVC()\n",
        "}\n",
        "\n",
        "# Entrenamiento y evaluación de cada modelo\n",
        "for model_name, model in models.items():\n",
        "    print(f\"\\nModelo: {model_name}\")\n",
        "    model.fit(X_train_transformed, y_train)\n",
        "    y_pred = model.predict(X_test_transformed)\n",
        "\n",
        "    # Mostrar resultados\n",
        "    print(\"X_test:\", X_test)\n",
        "    print(\"y_test:\", y_test.tolist())\n",
        "    print(\"y_pred:\", y_pred.tolist())\n"
      ],
      "metadata": {
        "colab": {
          "base_uri": "https://localhost:8080/"
        },
        "id": "tEqQldheJuED",
        "outputId": "591f0050-4bfc-4874-cffb-5f91ea422e33"
      },
      "execution_count": null,
      "outputs": [
        {
          "output_type": "stream",
          "name": "stdout",
          "text": [
            "\n",
            "Modelo: Naive Bayes\n",
            "X_test: 8    Can you send me the report?\n",
            "1     Win a $1000 gift card now!\n",
            "Name: message, dtype: object\n",
            "y_test: ['ham', 'spam']\n",
            "y_pred: ['ham', 'ham']\n",
            "\n",
            "Modelo: K-Nearest Neighbors\n",
            "X_test: 8    Can you send me the report?\n",
            "1     Win a $1000 gift card now!\n",
            "Name: message, dtype: object\n",
            "y_test: ['ham', 'spam']\n",
            "y_pred: ['spam', 'spam']\n",
            "\n",
            "Modelo: Logistic Regression\n",
            "X_test: 8    Can you send me the report?\n",
            "1     Win a $1000 gift card now!\n",
            "Name: message, dtype: object\n",
            "y_test: ['ham', 'spam']\n",
            "y_pred: ['ham', 'spam']\n",
            "\n",
            "Modelo: Decision Tree\n",
            "X_test: 8    Can you send me the report?\n",
            "1     Win a $1000 gift card now!\n",
            "Name: message, dtype: object\n",
            "y_test: ['ham', 'spam']\n",
            "y_pred: ['ham', 'spam']\n",
            "\n",
            "Modelo: Random Forest\n",
            "X_test: 8    Can you send me the report?\n",
            "1     Win a $1000 gift card now!\n",
            "Name: message, dtype: object\n",
            "y_test: ['ham', 'spam']\n",
            "y_pred: ['ham', 'spam']\n",
            "\n",
            "Modelo: Support Vector Classifier\n",
            "X_test: 8    Can you send me the report?\n",
            "1     Win a $1000 gift card now!\n",
            "Name: message, dtype: object\n",
            "y_test: ['ham', 'spam']\n",
            "y_pred: ['ham', 'spam']\n"
          ]
        }
      ]
    },
    {
      "cell_type": "code",
      "source": [
        "from sklearn.metrics import accuracy_score, precision_score, recall_score, f1_score\n",
        "\n",
        "# Diccionario para almacenar métricas\n",
        "metrics = {}\n",
        "\n",
        "# Iterar sobre cada modelo\n",
        "for model_name, model in models.items():\n",
        "    # Predecir con el modelo\n",
        "    y_pred = model.predict(X_test_transformed)\n",
        "\n",
        "    # Calcular métricas\n",
        "    accuracy = accuracy_score(y_test, y_pred)\n",
        "    precision = precision_score(y_test, y_pred, pos_label='spam', zero_division=0)\n",
        "    recall = recall_score(y_test, y_pred, pos_label='spam', zero_division=0)\n",
        "    f1 = f1_score(y_test, y_pred, pos_label='spam', zero_division=0)\n",
        "\n",
        "    # Guardar métricas en el diccionario\n",
        "    metrics[model_name] = {\n",
        "        \"Accuracy\": accuracy,\n",
        "        \"Precision\": precision,\n",
        "        \"Recall\": recall,\n",
        "        \"F1 Score\": f1\n",
        "    }\n",
        "\n",
        "# Mostrar las métricas de cada modelo\n",
        "for model_name, metric_values in metrics.items():\n",
        "    print(f\"\\nModelo: {model_name}\")\n",
        "    for metric, value in metric_values.items():\n",
        "        print(f\"{metric}: {value:.4f}\")\n"
      ],
      "metadata": {
        "colab": {
          "base_uri": "https://localhost:8080/"
        },
        "id": "IfwJu1kcKbND",
        "outputId": "3fa2506e-f752-41f2-d27c-8a72cb9c9970"
      },
      "execution_count": null,
      "outputs": [
        {
          "output_type": "stream",
          "name": "stdout",
          "text": [
            "\n",
            "Modelo: Naive Bayes\n",
            "Accuracy: 0.5000\n",
            "Precision: 0.0000\n",
            "Recall: 0.0000\n",
            "F1 Score: 0.0000\n",
            "\n",
            "Modelo: K-Nearest Neighbors\n",
            "Accuracy: 0.5000\n",
            "Precision: 0.5000\n",
            "Recall: 1.0000\n",
            "F1 Score: 0.6667\n",
            "\n",
            "Modelo: Logistic Regression\n",
            "Accuracy: 1.0000\n",
            "Precision: 1.0000\n",
            "Recall: 1.0000\n",
            "F1 Score: 1.0000\n",
            "\n",
            "Modelo: Decision Tree\n",
            "Accuracy: 1.0000\n",
            "Precision: 1.0000\n",
            "Recall: 1.0000\n",
            "F1 Score: 1.0000\n",
            "\n",
            "Modelo: Random Forest\n",
            "Accuracy: 1.0000\n",
            "Precision: 1.0000\n",
            "Recall: 1.0000\n",
            "F1 Score: 1.0000\n",
            "\n",
            "Modelo: Support Vector Classifier\n",
            "Accuracy: 1.0000\n",
            "Precision: 1.0000\n",
            "Recall: 1.0000\n",
            "F1 Score: 1.0000\n"
          ]
        }
      ]
    },
    {
      "cell_type": "markdown",
      "source": [
        "APRENDIZAJE NO SUPERVISADO"
      ],
      "metadata": {
        "id": "tyYc3kzuuY2p"
      }
    },
    {
      "cell_type": "code",
      "source": [
        "# Importar las bibliotecas necesarias\n",
        "import pandas as pd\n",
        "from google.colab import files\n",
        "\n",
        "# Subir el archivo CSV desde tu computadora\n",
        "uploaded = files.upload()\n",
        "\n",
        "# Leer el archivo CSV en un DataFrame de pandas\n",
        "df = pd.read_csv(\"clientes_dataset.csv\")\n",
        "\n",
        "# Mostrar las primeras filas del DataFrame\n",
        "print(\"Dataset importado:\")\n",
        "print(df)\n"
      ],
      "metadata": {
        "colab": {
          "base_uri": "https://localhost:8080/",
          "height": 280
        },
        "id": "0t5o7V-ahzuH",
        "outputId": "ea19d1c6-cb26-4b0b-b26b-22387b627cdd"
      },
      "execution_count": null,
      "outputs": [
        {
          "output_type": "display_data",
          "data": {
            "text/plain": [
              "<IPython.core.display.HTML object>"
            ],
            "text/html": [
              "\n",
              "     <input type=\"file\" id=\"files-4594a43c-5845-468f-918b-b5df82ced319\" name=\"files[]\" multiple disabled\n",
              "        style=\"border:none\" />\n",
              "     <output id=\"result-4594a43c-5845-468f-918b-b5df82ced319\">\n",
              "      Upload widget is only available when the cell has been executed in the\n",
              "      current browser session. Please rerun this cell to enable.\n",
              "      </output>\n",
              "      <script>// Copyright 2017 Google LLC\n",
              "//\n",
              "// Licensed under the Apache License, Version 2.0 (the \"License\");\n",
              "// you may not use this file except in compliance with the License.\n",
              "// You may obtain a copy of the License at\n",
              "//\n",
              "//      http://www.apache.org/licenses/LICENSE-2.0\n",
              "//\n",
              "// Unless required by applicable law or agreed to in writing, software\n",
              "// distributed under the License is distributed on an \"AS IS\" BASIS,\n",
              "// WITHOUT WARRANTIES OR CONDITIONS OF ANY KIND, either express or implied.\n",
              "// See the License for the specific language governing permissions and\n",
              "// limitations under the License.\n",
              "\n",
              "/**\n",
              " * @fileoverview Helpers for google.colab Python module.\n",
              " */\n",
              "(function(scope) {\n",
              "function span(text, styleAttributes = {}) {\n",
              "  const element = document.createElement('span');\n",
              "  element.textContent = text;\n",
              "  for (const key of Object.keys(styleAttributes)) {\n",
              "    element.style[key] = styleAttributes[key];\n",
              "  }\n",
              "  return element;\n",
              "}\n",
              "\n",
              "// Max number of bytes which will be uploaded at a time.\n",
              "const MAX_PAYLOAD_SIZE = 100 * 1024;\n",
              "\n",
              "function _uploadFiles(inputId, outputId) {\n",
              "  const steps = uploadFilesStep(inputId, outputId);\n",
              "  const outputElement = document.getElementById(outputId);\n",
              "  // Cache steps on the outputElement to make it available for the next call\n",
              "  // to uploadFilesContinue from Python.\n",
              "  outputElement.steps = steps;\n",
              "\n",
              "  return _uploadFilesContinue(outputId);\n",
              "}\n",
              "\n",
              "// This is roughly an async generator (not supported in the browser yet),\n",
              "// where there are multiple asynchronous steps and the Python side is going\n",
              "// to poll for completion of each step.\n",
              "// This uses a Promise to block the python side on completion of each step,\n",
              "// then passes the result of the previous step as the input to the next step.\n",
              "function _uploadFilesContinue(outputId) {\n",
              "  const outputElement = document.getElementById(outputId);\n",
              "  const steps = outputElement.steps;\n",
              "\n",
              "  const next = steps.next(outputElement.lastPromiseValue);\n",
              "  return Promise.resolve(next.value.promise).then((value) => {\n",
              "    // Cache the last promise value to make it available to the next\n",
              "    // step of the generator.\n",
              "    outputElement.lastPromiseValue = value;\n",
              "    return next.value.response;\n",
              "  });\n",
              "}\n",
              "\n",
              "/**\n",
              " * Generator function which is called between each async step of the upload\n",
              " * process.\n",
              " * @param {string} inputId Element ID of the input file picker element.\n",
              " * @param {string} outputId Element ID of the output display.\n",
              " * @return {!Iterable<!Object>} Iterable of next steps.\n",
              " */\n",
              "function* uploadFilesStep(inputId, outputId) {\n",
              "  const inputElement = document.getElementById(inputId);\n",
              "  inputElement.disabled = false;\n",
              "\n",
              "  const outputElement = document.getElementById(outputId);\n",
              "  outputElement.innerHTML = '';\n",
              "\n",
              "  const pickedPromise = new Promise((resolve) => {\n",
              "    inputElement.addEventListener('change', (e) => {\n",
              "      resolve(e.target.files);\n",
              "    });\n",
              "  });\n",
              "\n",
              "  const cancel = document.createElement('button');\n",
              "  inputElement.parentElement.appendChild(cancel);\n",
              "  cancel.textContent = 'Cancel upload';\n",
              "  const cancelPromise = new Promise((resolve) => {\n",
              "    cancel.onclick = () => {\n",
              "      resolve(null);\n",
              "    };\n",
              "  });\n",
              "\n",
              "  // Wait for the user to pick the files.\n",
              "  const files = yield {\n",
              "    promise: Promise.race([pickedPromise, cancelPromise]),\n",
              "    response: {\n",
              "      action: 'starting',\n",
              "    }\n",
              "  };\n",
              "\n",
              "  cancel.remove();\n",
              "\n",
              "  // Disable the input element since further picks are not allowed.\n",
              "  inputElement.disabled = true;\n",
              "\n",
              "  if (!files) {\n",
              "    return {\n",
              "      response: {\n",
              "        action: 'complete',\n",
              "      }\n",
              "    };\n",
              "  }\n",
              "\n",
              "  for (const file of files) {\n",
              "    const li = document.createElement('li');\n",
              "    li.append(span(file.name, {fontWeight: 'bold'}));\n",
              "    li.append(span(\n",
              "        `(${file.type || 'n/a'}) - ${file.size} bytes, ` +\n",
              "        `last modified: ${\n",
              "            file.lastModifiedDate ? file.lastModifiedDate.toLocaleDateString() :\n",
              "                                    'n/a'} - `));\n",
              "    const percent = span('0% done');\n",
              "    li.appendChild(percent);\n",
              "\n",
              "    outputElement.appendChild(li);\n",
              "\n",
              "    const fileDataPromise = new Promise((resolve) => {\n",
              "      const reader = new FileReader();\n",
              "      reader.onload = (e) => {\n",
              "        resolve(e.target.result);\n",
              "      };\n",
              "      reader.readAsArrayBuffer(file);\n",
              "    });\n",
              "    // Wait for the data to be ready.\n",
              "    let fileData = yield {\n",
              "      promise: fileDataPromise,\n",
              "      response: {\n",
              "        action: 'continue',\n",
              "      }\n",
              "    };\n",
              "\n",
              "    // Use a chunked sending to avoid message size limits. See b/62115660.\n",
              "    let position = 0;\n",
              "    do {\n",
              "      const length = Math.min(fileData.byteLength - position, MAX_PAYLOAD_SIZE);\n",
              "      const chunk = new Uint8Array(fileData, position, length);\n",
              "      position += length;\n",
              "\n",
              "      const base64 = btoa(String.fromCharCode.apply(null, chunk));\n",
              "      yield {\n",
              "        response: {\n",
              "          action: 'append',\n",
              "          file: file.name,\n",
              "          data: base64,\n",
              "        },\n",
              "      };\n",
              "\n",
              "      let percentDone = fileData.byteLength === 0 ?\n",
              "          100 :\n",
              "          Math.round((position / fileData.byteLength) * 100);\n",
              "      percent.textContent = `${percentDone}% done`;\n",
              "\n",
              "    } while (position < fileData.byteLength);\n",
              "  }\n",
              "\n",
              "  // All done.\n",
              "  yield {\n",
              "    response: {\n",
              "      action: 'complete',\n",
              "    }\n",
              "  };\n",
              "}\n",
              "\n",
              "scope.google = scope.google || {};\n",
              "scope.google.colab = scope.google.colab || {};\n",
              "scope.google.colab._files = {\n",
              "  _uploadFiles,\n",
              "  _uploadFilesContinue,\n",
              "};\n",
              "})(self);\n",
              "</script> "
            ]
          },
          "metadata": {}
        },
        {
          "output_type": "stream",
          "name": "stdout",
          "text": [
            "Saving clientes_dataset.csv to clientes_dataset.csv\n",
            "Dataset importado:\n",
            "   ClienteID  Ingresos  GastoMensual\n",
            "0          1        15           1.0\n",
            "1          2        16           1.5\n",
            "2          3        17           1.2\n",
            "3          4        22           3.0\n",
            "4          5        23           3.5\n",
            "5          6        30           4.0\n",
            "6          7        35           5.0\n",
            "7          8        36           5.5\n",
            "8          9        45           6.0\n",
            "9         10        50           7.0\n"
          ]
        }
      ]
    },
    {
      "cell_type": "code",
      "source": [
        "# Importar las bibliotecas necesarias\n",
        "import pandas as pd  # Para manejar y analizar datos\n",
        "from sklearn.cluster import KMeans  # Para realizar el algoritmo K-means\n",
        "import matplotlib.pyplot as plt  # Para graficar\n",
        "import seaborn as sns  # Para gráficos estilizados\n",
        "\n",
        "\n",
        "\n",
        "# Convertir el diccionario a un DataFrame\n",
        "df = pd.DataFrame(data)\n",
        "\n",
        "# Mostrar las primeras filas del dataset\n",
        "print(\"Dataset inicial:\")\n",
        "print(df)\n",
        "\n",
        "# Seleccionar las columnas numéricas relevantes para el agrupamiento\n",
        "X = df[[\"Ingresos\", \"GastoMensual\"]]  # Solo usamos estas dos columnas para agrupar\n",
        "\n",
        "# Definir el modelo K-means con un número específico de clusters (e.g., 3)\n",
        "kmeans = KMeans(n_clusters=3, random_state=42)\n",
        "\n",
        "# Ajustar el modelo a los datos\n",
        "kmeans.fit(X)\n",
        "\n",
        "# Agregar los resultados del cluster al DataFrame original\n",
        "df[\"Cluster\"] = kmeans.labels_\n",
        "\n",
        "# Visualizar el DataFrame actualizado\n",
        "print(\"\\nDataset con clusters asignados:\")\n",
        "print(df)\n",
        "\n",
        "# Visualizar los resultados del agrupamiento\n",
        "plt.figure(figsize=(10, 6))  # Establecer tamaño de la figura\n",
        "sns.scatterplot(\n",
        "    x=\"Ingresos\",\n",
        "    y=\"GastoMensual\",\n",
        "    hue=\"Cluster\",\n",
        "    data=df,\n",
        "    palette=\"viridis\",\n",
        "    s=100,\n",
        ")  # Crear un gráfico de dispersión\n",
        "plt.title(\"Clustering de Clientes (K-means)\")  # Título del gráfico\n",
        "plt.xlabel(\"Ingresos (en miles de USD)\")  # Etiqueta del eje X\n",
        "plt.ylabel(\"Gasto Mensual (en miles de USD)\")  # Etiqueta del eje Y\n",
        "plt.show()  # Mostrar el gráfico\n"
      ],
      "metadata": {
        "colab": {
          "base_uri": "https://localhost:8080/",
          "height": 998
        },
        "id": "6g_rwYLuh7yv",
        "outputId": "23429f5b-bdf3-428c-dc7c-60742f06a797"
      },
      "execution_count": null,
      "outputs": [
        {
          "output_type": "stream",
          "name": "stdout",
          "text": [
            "Dataset inicial:\n",
            "   ClienteID  Ingresos  GastoMensual\n",
            "0          1        15           1.0\n",
            "1          2        16           1.5\n",
            "2          3        17           1.2\n",
            "3          4        22           3.0\n",
            "4          5        23           3.5\n",
            "5          6        30           4.0\n",
            "6          7        35           5.0\n",
            "7          8        36           5.5\n",
            "8          9        45           6.0\n",
            "9         10        50           7.0\n",
            "\n",
            "Dataset con clusters asignados:\n",
            "   ClienteID  Ingresos  GastoMensual  Cluster\n",
            "0          1        15           1.0        2\n",
            "1          2        16           1.5        2\n",
            "2          3        17           1.2        2\n",
            "3          4        22           3.0        0\n",
            "4          5        23           3.5        0\n",
            "5          6        30           4.0        0\n",
            "6          7        35           5.0        0\n",
            "7          8        36           5.5        1\n",
            "8          9        45           6.0        1\n",
            "9         10        50           7.0        1\n"
          ]
        },
        {
          "output_type": "display_data",
          "data": {
            "text/plain": [
              "<Figure size 1000x600 with 1 Axes>"
            ],
            "image/png": "[encoded data removed]"
          },
          "metadata": {}
        }
      ]
    },
    {
      "cell_type": "markdown",
      "source": [
        "APRENDIZAJE POR REFUERZO"
      ],
      "metadata": {
        "id": "Ee35frbIudsW"
      }
    },
    {
      "cell_type": "code",
      "source": [
        "import pandas as pd\n",
        "import numpy as np\n",
        "import matplotlib.pyplot as plt\n",
        "\n",
        "# Cargar el dataset\n",
        "df = pd.read_csv(\"refuerzo_robot.csv\")\n",
        "print(df.head)\n",
        "\n",
        "# Parámetros\n",
        "estados = df[\"Estado\"].values\n",
        "acciones = [\"Arriba\", \"Abajo\", \"Izquierda\", \"Derecha\"]\n",
        "q_table = np.zeros((len(estados), len(acciones)))  # Tabla Q inicializada\n",
        "learning_rate = 0.1  # Tasa de aprendizaje\n",
        "gamma = 0.9  # Factor de descuento\n",
        "episodios = 1000  # Número de episodios\n",
        "recompensas_totales = []\n",
        "\n",
        "# Función para elegir acción (exploración vs explotación)\n",
        "def elegir_accion(estado_idx, epsilon):\n",
        "    if np.random.rand() < epsilon:\n",
        "        return np.random.choice(len(acciones))  # Exploración\n",
        "    return np.argmax(q_table[estado_idx])  # Explotación\n",
        "\n",
        "# Entrenamiento Q-Learning\n",
        "for episodio in range(episodios):\n",
        "    estado_actual = np.random.choice(len(estados))  # Elegir estado inicial al azar\n",
        "    recompensa_total = 0\n",
        "    epsilon = max(0.01, 0.9 - episodio / 500)  # Reducir epsilon con el tiempo\n",
        "\n",
        "    while True:\n",
        "        # Elegir acción\n",
        "        accion = elegir_accion(estado_actual, epsilon)\n",
        "\n",
        "        # Obtener recompensa y nuevo estado\n",
        "        recompensa = df.iloc[estado_actual, accion + 1]\n",
        "        nuevo_estado = np.random.choice(len(estados))  # Transición aleatoria\n",
        "\n",
        "        # Actualizar la tabla Q\n",
        "        q_table[estado_actual, accion] += learning_rate * (\n",
        "            recompensa + gamma * np.max(q_table[nuevo_estado]) - q_table[estado_actual, accion]\n",
        "        )\n",
        "\n",
        "        recompensa_total += recompensa\n",
        "\n",
        "        # Condición de fin\n",
        "        if recompensa == 100 or np.random.rand() < 0.1:\n",
        "            break\n",
        "\n",
        "        estado_actual = nuevo_estado\n",
        "\n",
        "    recompensas_totales.append(recompensa_total)\n",
        "print(\"Las recompensas totales son:\",recompensa_total)\n",
        "\n",
        "# Mostrar la tabla Q final\n",
        "print(\"Tabla Q Final:\")\n",
        "print(q_table)\n",
        "\n",
        "# Gráfico de recompensas\n",
        "plt.plot(recompensas_totales)\n",
        "plt.title(\"Recompensas Totales por Episodio\")\n",
        "plt.xlabel(\"Episodio\")\n",
        "plt.ylabel(\"Recompensa Total\")\n",
        "plt.show()\n"
      ],
      "metadata": {
        "colab": {
          "base_uri": "https://localhost:8080/",
          "height": 1000
        },
        "id": "it2jYe5soYDS",
        "outputId": "5495df20-ed1e-4e8c-9360-c1cc92f4b9fe"
      },
      "execution_count": null,
      "outputs": [
        {
          "output_type": "stream",
          "name": "stdout",
          "text": [
            "<bound method NDFrame.head of          Estado  Arriba  Abajo  Izquierda  Derecha\n",
            "0      Estado_1      -4     -8          9       -1\n",
            "1      Estado_2       9      8         -1        7\n",
            "2      Estado_3       4      9          8        2\n",
            "3      Estado_4       0     -4        -10       -6\n",
            "4      Estado_5      -3      9         -6      -10\n",
            "..          ...     ...    ...        ...      ...\n",
            "195  Estado_196       5     -6          7       -3\n",
            "196  Estado_197      -8     -1          8       -6\n",
            "197  Estado_198       9     -6         -6       -7\n",
            "198  Estado_199      -7     -7          4       -5\n",
            "199  Estado_200       8     -9         -9       -9\n",
            "\n",
            "[200 rows x 5 columns]>\n",
            "Las recompensas totales son: 100\n",
            "Tabla Q Final:\n",
            "[[-3.95398890e-01 -1.61345646e+00  2.48993865e+01  1.44619624e+00]\n",
            " [ 9.78879509e-01  2.61990266e+01 -1.78570000e-01  1.91697308e+00]\n",
            " [ 8.55583693e-01  1.98371367e+01  1.71609192e+00  6.69234467e-01]\n",
            " [ 1.22220071e+01 -2.67629861e-01 -5.04132274e-01 -1.34615232e+00]\n",
            " [ 1.45235311e-01  3.43717743e+01 -8.59945731e-01 -3.43900000e+00]\n",
            " [-3.13176559e-01  8.04466917e-02  1.61621148e+01 -1.63196955e+00]\n",
            " [ 2.16822300e+01 -2.51936650e+00 -1.06690710e+00  2.75452202e+00]\n",
            " [ 4.98510000e-02 -2.06321419e-01  1.82518935e+01  5.15746440e-01]\n",
            " [ 5.27034089e-01 -3.72708580e-01  2.34523865e+01  1.28077800e+00]\n",
            " [-1.14721913e+00  1.88210263e+01 -3.02763843e+00  4.01604090e-01]\n",
            " [-4.69099476e-01 -1.46533729e-01  0.00000000e+00  1.89028406e+01]\n",
            " [ 0.00000000e+00 -1.59192500e+00  8.62789063e-01  1.50962118e+01]\n",
            " [-1.99638303e+00  7.74373059e-02  1.35387892e+01 -2.30903347e+00]\n",
            " [ 1.00000000e-01  1.94962570e+01  0.00000000e+00 -1.98689571e+00]\n",
            " [-4.58510000e-01  9.32893694e+00 -4.61256209e-01  7.11817479e-02]\n",
            " [-3.24469165e+00 -1.66066952e+00 -1.63465721e+00  4.88074022e+00]\n",
            " [-3.66202044e+00  7.05220417e+00 -2.09653845e+00 -2.93638361e+00]\n",
            " [ 1.00228324e+00  4.26572037e+00  2.11642182e+01  2.90619999e+00]\n",
            " [ 6.86383973e-01  2.19991179e+01  1.62000000e-02 -2.45062478e-01]\n",
            " [ 1.17600000e+00  2.36813951e+01 -1.98602732e+00  2.30031614e+00]\n",
            " [ 2.64227545e-01  2.00455933e+01  6.63362509e-01 -5.40945818e-01]\n",
            " [ 1.71113182e+01 -4.95316040e-01 -1.33771485e+00 -8.93341095e-01]\n",
            " [ 1.66970504e+01 -1.43818520e+00 -1.00000000e+00 -3.42568400e-01]\n",
            " [ 1.93814627e+01  1.30090310e+00 -1.58394060e+00 -8.00000000e-01]\n",
            " [ 1.96495633e+01  6.26896539e-01 -4.53180839e-01  7.81015433e+00]\n",
            " [ 1.36351065e+01 -5.87031900e-01  3.62386009e-01 -1.14000000e+00]\n",
            " [ 2.31414048e+01 -6.00000000e-01  0.00000000e+00  4.04597896e-01]\n",
            " [-2.14248358e+00  2.94564708e-02  1.41957717e+01  1.14345504e-01]\n",
            " [-6.00000000e-01 -4.52286482e-01  1.13409303e+01  0.00000000e+00]\n",
            " [ 2.08392802e+01 -1.81656273e+00  4.22422856e-01  7.65324509e-01]\n",
            " [-6.90370600e-01  2.76046577e+01  0.00000000e+00  0.00000000e+00]\n",
            " [ 3.28919443e-01  1.75497190e+01 -1.67874048e+00 -3.33239881e-01]\n",
            " [-3.04754216e-01  1.76388296e+01  1.11383515e+00  4.57279562e-01]\n",
            " [ 0.00000000e+00 -1.33429400e+00  2.35380118e+01 -1.00000000e+00]\n",
            " [-2.68910350e+00  2.09228542e+01 -2.57955121e+00  8.00000000e-01]\n",
            " [ 1.51919864e+01 -6.73243305e-01  1.49575049e+00  1.62836681e+00]\n",
            " [ 2.12137525e+00  1.83620457e+01 -8.76898617e-02  3.47016257e-01]\n",
            " [-5.94907814e-01  1.38577260e+01  2.37589032e-01 -7.09000000e-01]\n",
            " [-3.14123454e+00  1.69165692e+01 -8.55000000e-01 -6.23689426e-01]\n",
            " [ 1.72627652e+00  0.00000000e+00  2.02284275e+01  2.74139570e+00]\n",
            " [ 1.52274903e+01 -2.92754916e+00  1.14846882e-01 -9.94827000e-01]\n",
            " [-1.23065424e+00 -9.48051796e-01 -2.77178175e-01  5.40014483e+00]\n",
            " [ 1.47060754e+01 -4.78279854e-01 -2.24411243e+00 -1.89930378e-01]\n",
            " [-2.81892503e-01  2.32246647e+01  0.00000000e+00  0.00000000e+00]\n",
            " [ 1.68185856e+01  0.00000000e+00  1.06241387e+00 -2.48484939e+00]\n",
            " [-2.04970625e+00  2.14947294e+01  2.19510000e-01 -1.14946448e+00]\n",
            " [ 2.10222231e+00 -2.77701574e+00 -1.18738090e+00  1.94703827e+01]\n",
            " [ 9.36292245e-01  2.25632101e+01 -1.74625416e+00  9.70610736e-01]\n",
            " [-2.84487844e-01  1.64606989e+01  0.00000000e+00 -9.37000000e-01]\n",
            " [ 1.71450195e+01  1.38409358e+00  0.00000000e+00  1.00000000e-01]\n",
            " [-3.00000000e-01 -2.18817426e+00  1.01339991e+01 -9.75086808e-01]\n",
            " [-4.20810992e-01 -2.08623410e+00 -5.84822712e-01  2.00976115e+01]\n",
            " [-6.03623259e-01  2.13812551e+00  2.01948293e+00  1.68751138e+01]\n",
            " [-1.20539299e+00 -2.01284478e-01 -1.59560401e+00  2.34256320e+01]\n",
            " [ 5.53562000e-02 -1.22418140e+00  5.63000000e-01  1.45935886e+01]\n",
            " [-1.41250494e+00 -1.33294842e+00  1.00494467e+01 -1.23870614e+00]\n",
            " [ 3.13483595e+00  7.92280356e-01  1.98469032e+01  6.97490400e-01]\n",
            " [ 2.57579630e+00 -1.82314000e+00  2.12245852e+01 -1.50586216e+00]\n",
            " [-1.29269689e+00  1.58880985e+01 -1.19360078e-01  1.09794420e+00]\n",
            " [-1.20370600e-01  6.32165900e-01 -8.82334930e-01  1.96905289e+01]\n",
            " [-1.14193143e+00  2.26801277e+01  3.77817681e-01 -3.93339840e-01]\n",
            " [ 1.17185247e+00  0.00000000e+00  2.13022488e+01 -4.23950000e-01]\n",
            " [ 2.07245367e+01 -3.48010165e-02  4.21865087e-01 -1.96017696e+00]\n",
            " [ 1.90981195e+01 -1.79463611e+00 -1.15987026e+00 -1.15095708e+00]\n",
            " [ 0.00000000e+00  0.00000000e+00 -1.50371230e-01  1.89489281e+01]\n",
            " [ 1.66038669e+01 -3.27715716e+00  1.35302080e+00 -1.39673665e+00]\n",
            " [-1.66091309e-01  1.79004316e+00  1.82596608e+01  1.84536063e+00]\n",
            " [ 2.40418738e+00  0.00000000e+00  2.25902323e+01  7.10357991e-01]\n",
            " [ 8.12017391e+00  2.08993863e+01  1.03820000e+00  1.12684997e+00]\n",
            " [ 2.64570992e+01  0.00000000e+00  1.32176438e+00 -2.13382339e+00]\n",
            " [ 3.81884348e-01 -4.32149000e-01  3.94485576e+00  1.95069704e+01]\n",
            " [ 2.48879765e+01 -1.49775006e+00  7.73286675e-01  0.00000000e+00]\n",
            " [-1.88014159e-01  1.50304053e+01  0.00000000e+00 -6.33396179e-01]\n",
            " [ 1.42946886e+00  3.01343207e+01  0.00000000e+00  6.93627417e-01]\n",
            " [ 1.25236781e+01 -4.83330000e-01 -3.11600000e-01  8.52762928e-02]\n",
            " [-3.60157266e+00 -1.51611669e+00  1.87170085e+01  7.11911600e-01]\n",
            " [-1.91491794e-01 -1.13530080e+00  1.27554108e+00  1.82497139e+01]\n",
            " [-2.42300000e-01  1.48310826e+01  6.30165860e-01 -3.42287424e-01]\n",
            " [-1.70271951e+00 -1.23020346e+00  9.22742825e+00 -1.17258623e+00]\n",
            " [ 1.46654704e+01 -1.71924753e+00  8.87879631e-01  0.00000000e+00]\n",
            " [-4.93455000e-01  0.00000000e+00  2.80497569e+00  1.79969579e+01]\n",
            " [ 5.83150594e-01  2.29682430e+01  2.18717270e+00  6.35782530e-01]\n",
            " [ 1.22085162e+00 -5.06063572e-01  1.05637674e+00  1.79498403e+01]\n",
            " [ 1.70518176e+01 -1.19831331e+00  6.19700000e-01  3.06988084e+00]\n",
            " [-7.74622943e-02  1.85797328e+01 -1.44078000e+00 -1.05538330e+00]\n",
            " [-8.00000000e-01  1.76772400e+01  0.00000000e+00 -1.70358468e+00]\n",
            " [-8.28127704e-01  1.31469129e+01  9.08942454e-01 -3.58606615e-01]\n",
            " [-1.00000000e+00  1.66169346e+01  1.01704403e+00 -2.40300000e+00]\n",
            " [-4.80300000e-01 -4.72281937e-01 -1.58010837e+00  1.28953469e+01]\n",
            " [ 4.14245428e-01  0.00000000e+00  1.87138397e+01  1.92870000e-02]\n",
            " [-5.27033830e-01  0.00000000e+00 -2.76757742e-01  1.25943633e+01]\n",
            " [ 3.12532439e-02 -1.07863040e+00  1.55750201e+01  0.00000000e+00]\n",
            " [-3.32431373e-02  1.69666627e+01  1.05898667e+00  1.92210272e+00]\n",
            " [-3.00699701e-01  1.76337300e+01 -3.46927000e-01  1.99720657e+00]\n",
            " [-3.00000000e-01 -1.51278529e+00  6.41095066e-01  1.52594297e+01]\n",
            " [ 7.73642900e-01 -2.42337791e+00 -1.59000000e+00  2.14062082e+01]\n",
            " [-2.40645849e-01  1.98791440e+01 -6.73946541e-01  5.11735672e-01]\n",
            " [ 0.00000000e+00 -9.97079680e-01  0.00000000e+00  1.81628690e+01]\n",
            " [ 2.54860762e+01 -1.52000000e+00  4.30977827e-01 -3.00000000e-01]\n",
            " [-4.67629861e-01  2.68371337e+00  2.42735877e+01 -1.71348173e+00]\n",
            " [-8.00000000e-01  1.19016062e+00  2.04061940e+01  5.10690035e+00]\n",
            " [ 6.00202135e-01 -2.48583123e+00  1.30763366e+01 -1.30835093e+00]\n",
            " [-5.88307259e-01 -2.85321290e-01  1.98427595e+01 -6.11931434e-01]\n",
            " [-1.30398418e+00  1.49938787e+01 -1.20564640e-01 -1.94687000e+00]\n",
            " [-1.61530523e+00  0.00000000e+00  1.94937240e+01  0.00000000e+00]\n",
            " [-1.72371598e+00  2.39881654e+01  9.62173488e-01  8.00000000e-01]\n",
            " [-1.43571490e+00 -1.43125558e+00 -9.48542000e-01  2.15954459e+01]\n",
            " [ 2.66298747e+01 -2.01943942e-01 -3.14500000e-01 -1.04693712e+00]\n",
            " [ 0.00000000e+00 -7.92092788e-01  3.58121687e-01  1.89451975e+01]\n",
            " [-5.69286006e-01  3.30069637e+00  1.33681031e+01  2.14218931e-01]\n",
            " [-1.84247230e+00  1.96468463e+01 -6.55424281e-01 -5.19482418e-01]\n",
            " [ 1.30112283e-02 -2.48816624e+00  1.06959919e+01 -7.56601905e-01]\n",
            " [ 2.07706189e+01  8.09673905e-02  3.65646774e-01 -1.47820005e+00]\n",
            " [ 1.08561360e+02  0.00000000e+00  1.99606311e+01  2.74320189e+01]\n",
            " [ 3.57680389e-02  1.59593022e+01  0.00000000e+00  2.30500000e-01]\n",
            " [ 1.64491697e+01  0.00000000e+00 -2.25987000e-01  0.00000000e+00]\n",
            " [ 1.65565487e+01  1.87481622e-01  0.00000000e+00 -1.71000000e+00]\n",
            " [ 7.85491589e-01 -1.24798463e+00 -1.31209832e+00  2.11847930e+01]\n",
            " [ 4.73690000e-01  1.00730106e+00  2.24202026e+01  1.15867560e+00]\n",
            " [ 2.10704038e+01  2.77516100e-01  1.02258115e-01  7.84225966e-01]\n",
            " [-7.76202843e-01 -8.18275119e-01  2.36858308e+01 -3.40431955e-01]\n",
            " [ 0.00000000e+00 -1.19843759e+00  1.39963342e+01  5.60014656e-01]\n",
            " [ 1.82981426e+01  1.42453929e+00 -1.11334155e+00  8.13899706e-01]\n",
            " [-1.77155605e+00  2.04901984e+01  9.00000000e-01  8.50500000e-02]\n",
            " [-5.59140000e-01 -1.68486441e+00  2.47552814e+01  8.11799207e-01]\n",
            " [-7.16710000e-01 -9.49432603e-01 -6.56590000e-01  1.83744945e+01]\n",
            " [ 1.37218902e+00  2.11768294e+00  1.49947791e+01 -4.82157025e-01]\n",
            " [ 4.27000000e-01  2.34784128e+01 -2.05402060e+00 -8.33989550e-01]\n",
            " [ 4.64546289e-01  2.23079450e+01 -7.10298934e-01 -4.65942000e-01]\n",
            " [-1.88437611e+00  6.23795845e+00 -6.73562203e-01  1.70514396e+01]\n",
            " [ 4.69140267e-01  0.00000000e+00  1.78593647e+01 -8.00000000e-01]\n",
            " [-5.90631783e-01  9.10365700e-01  1.00000000e-01  2.09535289e+01]\n",
            " [ 1.16198807e+00  0.00000000e+00 -1.06600000e+00  1.85872548e+01]\n",
            " [-9.00000000e-01  0.00000000e+00  1.00102536e+01  0.00000000e+00]\n",
            " [ 1.51704707e-01  1.57428351e+00  2.37061739e+01  0.00000000e+00]\n",
            " [ 1.55028588e+01  0.00000000e+00 -4.06582104e-01  4.02600000e-01]\n",
            " [ 2.33648885e+00  2.13221005e+01 -1.20436782e+00 -7.97400000e-01]\n",
            " [ 3.01186554e-01 -1.65080459e-01  1.23545588e+01  1.09091888e+00]\n",
            " [ 1.22698606e+01  9.24747326e-02  0.00000000e+00  0.00000000e+00]\n",
            " [ 1.97520810e+01  4.20340000e-01  2.46076000e+00  1.77737087e+00]\n",
            " [ 0.00000000e+00  1.81620536e-01  2.00670975e+01  3.36706471e-01]\n",
            " [-7.60000000e-01 -1.19400000e+00  9.59782171e+00 -1.98679407e+00]\n",
            " [-3.16334366e-01 -1.57693340e+00 -3.69371000e-01  1.54780742e+01]\n",
            " [-1.80130774e+00  2.83728851e-01  1.66654707e+01  0.00000000e+00]\n",
            " [ 1.09511485e+02  1.92270683e+01  2.01712962e+01  1.01822852e+01]\n",
            " [ 1.44791965e+00  1.33480000e-01 -2.10993348e+00  2.36838926e+01]\n",
            " [-8.24242994e-02 -1.35247840e+00  1.57393100e+00  1.44110383e+01]\n",
            " [ 1.10296537e+02  1.91139017e+01  0.00000000e+00  1.92389324e+01]\n",
            " [ 9.10325529e+00 -1.56314889e+00 -1.14340378e+00 -1.02149132e+00]\n",
            " [-1.30370000e+00 -1.12335437e+00  1.49889608e+01 -1.90756271e+00]\n",
            " [-2.82660160e-01  1.62547533e+01 -3.67834100e-01  0.00000000e+00]\n",
            " [ 7.64389942e-02  2.03108842e+01  2.53000000e-01  1.36280275e+00]\n",
            " [-8.34086671e-01  1.66620592e+01  8.00721220e-01 -1.06730903e+00]\n",
            " [ 0.00000000e+00 -8.00000000e-01  1.42528862e+01 -1.49659691e-01]\n",
            " [ 2.09504885e+01 -2.39413655e-01  8.93335516e-01 -4.90620730e-01]\n",
            " [ 2.56187593e-02  2.95732789e+01  1.41285499e+00  6.09000000e-01]\n",
            " [ 4.05211513e-01  2.52992749e+01  1.80850219e-01 -1.00241969e+00]\n",
            " [ 1.56325405e+01  4.29088793e-01 -1.24189079e+00  4.95033816e-01]\n",
            " [-2.00000000e-01  7.00000000e-01 -2.47593652e+00  2.02159537e+01]\n",
            " [ 2.07148295e+01  5.16883921e-02 -5.70072427e-01  3.55520000e-01]\n",
            " [ 2.23039384e+00  1.81669424e+00  2.03567033e+01  4.05374271e+00]\n",
            " [ 2.09783249e+01  2.13582752e+00  3.69077262e+00 -2.63099451e+00]\n",
            " [ 2.94938406e+01  3.25562770e+00  0.00000000e+00 -2.36048245e-03]\n",
            " [ 1.92547756e+01  1.16273710e+02  4.13916689e+01  1.93514336e+01]\n",
            " [-1.03394200e+00  9.96520306e+00  2.37944260e-01  4.09435383e-01]\n",
            " [-1.99169202e+00  3.20968000e-01  1.63404995e+01  9.83647831e-01]\n",
            " [ 1.47454948e+00 -8.15978074e-01  1.18679804e+00  2.08262627e+01]\n",
            " [ 1.86645921e+01 -1.20149741e+00  0.00000000e+00  1.30669870e+00]\n",
            " [ 2.97720997e-01  2.28253504e+01 -1.78826506e+00 -1.31900392e+00]\n",
            " [ 1.65133484e+01 -4.83772095e-01 -1.26074033e+00  4.83420749e-01]\n",
            " [ 2.87337044e+00  1.05160212e+00  1.67124096e+01 -1.45722307e+00]\n",
            " [ 2.54501444e+01 -4.28340000e-01  0.00000000e+00  4.00000000e-01]\n",
            " [-2.12952546e+00  1.62501728e+01  1.90000000e-01  5.65662705e-02]\n",
            " [-1.65720095e+00 -2.23170657e+00  1.46404583e+01 -1.01171457e+00]\n",
            " [-1.22430126e+00  1.70686603e+01  1.17887927e+00  1.27229666e+00]\n",
            " [-1.73629370e+00 -4.00000000e-01 -5.21400000e-01  1.20540851e+01]\n",
            " [-1.70606357e+00 -2.15456751e+00 -3.52478949e-01  2.22018108e+01]\n",
            " [ 2.08849825e+01 -8.00000000e-01  1.54000000e-01  1.13956390e-01]\n",
            " [-1.71000000e+00  1.62531075e+01  1.16793507e-01 -2.26100000e-01]\n",
            " [ 1.09460818e+00  2.15474510e+01  0.00000000e+00 -2.36988541e-01]\n",
            " [-3.72580648e-01  1.72889177e+01 -7.17036553e-01 -8.38619600e-01]\n",
            " [-7.00000000e-01 -5.06562000e-01  2.82867775e+00  2.17563839e+01]\n",
            " [ 1.25315489e+01  0.00000000e+00 -6.00000000e-01 -1.35683925e+00]\n",
            " [ 7.03822806e-01  2.91511842e+00 -2.00000000e-01  2.35273414e+01]\n",
            " [-2.60181501e-01  1.67760604e+01 -1.61402462e+00 -1.39660974e+00]\n",
            " [-8.80452600e-01  2.96148417e+00  1.81367695e+01 -1.93434218e-01]\n",
            " [ 0.00000000e+00  1.10987573e+02  1.93243913e+01  0.00000000e+00]\n",
            " [-1.08690396e+00  2.06380298e+01 -4.66484009e-01 -4.16438051e-01]\n",
            " [-4.07897196e-01  2.75919366e-01  2.22856441e+01 -4.20903661e-02]\n",
            " [ 7.58726294e-01  5.27936689e-01  1.52117047e+01  0.00000000e+00]\n",
            " [ 2.05032325e+00  1.94325636e+00  1.77449464e+01 -1.09825990e+00]\n",
            " [ 1.84603989e+01  1.02336449e+00  1.23686926e+00  0.00000000e+00]\n",
            " [-1.00000000e+00 -5.62829861e-01  1.60317734e+01 -3.26908418e-01]\n",
            " [ 1.95157595e+01 -6.98380000e-01 -7.16580790e-01 -1.60496345e+00]\n",
            " [-5.00000000e-01 -1.36849921e+00  1.80959796e+00  1.97867307e+01]\n",
            " [ 5.72000000e-01 -6.00000000e-01  2.35375167e+01 -2.00371547e-01]\n",
            " [ 0.00000000e+00 -7.30897300e-02  2.58783851e+01 -5.45843775e-01]\n",
            " [ 2.13315818e+01 -1.07878114e+00 -2.48941796e-01 -1.31200000e+00]\n",
            " [-1.27793950e+00  5.42674827e-01  1.67199892e+01  0.00000000e+00]\n",
            " [ 2.65516235e+01 -2.64083583e+00 -9.00000000e-01 -8.78850000e-01]]\n"
          ]
        },
        {
          "output_type": "display_data",
          "data": {
            "text/plain": [
              "<Figure size 640x480 with 1 Axes>"
            ],
            "image/png": "[encoded data removed]"
          },
          "metadata": {}
        }
      ]
    },
    {
      "cell_type": "markdown",
      "source": [
        "EJEMPLO DE CODIGO PREDICCION DE PRECIO CON VARIABLES CATEGORICAS, INT Y FLOAT - MODELO LINEAL"
      ],
      "metadata": {
        "id": "uDVDdWzZug_-"
      }
    },
    {
      "cell_type": "code",
      "source": [
        "# Importar bibliotecas necesarias\n",
        "import pandas as pd\n",
        "import numpy as np\n",
        "from sklearn.model_selection import train_test_split\n",
        "from sklearn.linear_model import LinearRegression\n",
        "from sklearn.metrics import mean_squared_error, r2_score\n",
        "from sklearn.preprocessing import OneHotEncoder\n",
        "\n",
        "# Cargar el dataset\n",
        "df = pd.read_csv(\"casas_precios.csv\")\n",
        "\n",
        "print(df.info())\n",
        "\n",
        "# Mostrar las primeras filas del dataset\n",
        "print(\"Dataset:\")\n",
        "print(df.head())\n",
        "\n",
        "\n",
        "# Preprocesamiento\n",
        "# Convertir la columna 'Tipo_Cocina' a variables dummies (OneHotEncoding)\n",
        "df = pd.get_dummies(df, columns=[\"Tipo_Cocina\"], drop_first=True)\n",
        "print(\"Despues de la transformacion de categorias\")\n",
        "print(df.head())\n",
        "# Separar características (X) y variable objetivo (y)\n",
        "X = df.drop(columns=[\"Precio\"])  # Todas las columnas excepto 'Precio'\n",
        "y = df[\"Precio\"]  # Columna 'Precio'\n",
        "\n",
        "# Calcular la matriz de correlación\n",
        "correlacion = df.corr()\n",
        "\n",
        "# Configurar el tamaño de la figura\n",
        "plt.figure(figsize=(10, 8))\n",
        "\n",
        "# Crear el mapa de calor\n",
        "sns.heatmap(correlacion, annot=True, cmap=\"coolwarm\", fmt=\".2f\", linewidths=0.5)\n",
        "\n",
        "# Títulos y etiquetas\n",
        "plt.title(\"Matriz de Correlación\", fontsize=16)\n",
        "plt.show()\n",
        "\n",
        "\n",
        "# Dividir los datos en conjuntos de entrenamiento y prueba\n",
        "X_train, X_test, y_train, y_test = train_test_split(X, y, test_size=0.2, random_state=42)\n",
        "\n",
        "# Entrenar el modelo de regresión lineal\n",
        "model = LinearRegression()\n",
        "model.fit(X_train, y_train)\n",
        "\n",
        "# Hacer predicciones\n",
        "y_pred = model.predict(X_test)\n",
        "\n",
        "# Evaluar el modelo\n",
        "mse = mean_squared_error(y_test, y_pred)\n",
        "r2 = r2_score(y_test, y_pred)\n",
        "\n",
        "print(\"\\nEvaluación del modelo:\")\n",
        "print(f\"Error cuadrático medio (MSE): {mse:.2f}\")\n",
        "print(f\"Coeficiente de determinación (R^2): {r2:.2f}\")\n",
        "\n",
        "# Mostrar los coeficientes del modelo\n",
        "print(\"\\nCoeficientes del modelo:\")\n",
        "for feature, coef in zip(X.columns, model.coef_):\n",
        "    print(f\"{feature}: {coef:.2f}\")\n",
        "\n",
        "# Ejemplo de predicción con preprocesamiento correcto\n",
        "ejemplo = pd.DataFrame({\n",
        "    \"Estrato\": [4],\n",
        "    \"Habitaciones\": [3],\n",
        "    \"Baños\": [2],\n",
        "    \"Metros_Cuadrados\": [120],\n",
        "    \"Parqueadero\": [1],\n",
        "    \"Tipo_Cocina_Integral\": [1],  # Variable dummie para 'Integral'\n",
        "    \"Tipo_Cocina_Americana\": [0],  # Variable dummie para 'Americana'\n",
        "})\n",
        "\n",
        "print(ejemplo)\n",
        "# Asegurar que las columnas del ejemplo coincidan con las del modelo\n",
        "for col in X.columns:\n",
        "    if col not in ejemplo.columns:\n",
        "        ejemplo[col] = 0  # Añadir columnas faltantes con valor 0\n",
        "\n",
        "# Reordenar las columnas\n",
        "ejemplo = ejemplo[X.columns]\n",
        "\n",
        "# Predicción\n",
        "prediccion = model.predict(ejemplo)\n",
        "print(f\"\\nPredicción de precio para el ejemplo: {prediccion[0]:.2f} USD\")\n"
      ],
      "metadata": {
        "colab": {
          "base_uri": "https://localhost:8080/",
          "height": 1000
        },
        "id": "oAt4mErsunjO",
        "outputId": "37f11b27-2b5c-4c4a-e529-22be998f2864"
      },
      "execution_count": null,
      "outputs": [
        {
          "output_type": "stream",
          "name": "stdout",
          "text": [
            "<class 'pandas.core.frame.DataFrame'>\n",
            "RangeIndex: 200 entries, 0 to 199\n",
            "Data columns (total 7 columns):\n",
            " #   Column            Non-Null Count  Dtype \n",
            "---  ------            --------------  ----- \n",
            " 0   Estrato           200 non-null    int64 \n",
            " 1   Habitaciones      200 non-null    int64 \n",
            " 2   Baños             200 non-null    int64 \n",
            " 3   Metros_Cuadrados  200 non-null    int64 \n",
            " 4   Parqueadero       200 non-null    int64 \n",
            " 5   Tipo_Cocina       200 non-null    object\n",
            " 6   Precio            200 non-null    int64 \n",
            "dtypes: int64(6), object(1)\n",
            "memory usage: 11.1+ KB\n",
            "None\n",
            "Dataset:\n",
            "   Estrato  Habitaciones  Baños  Metros_Cuadrados  Parqueadero  Tipo_Cocina  \\\n",
            "0        4             1      4               244            0    Americana   \n",
            "1        5             4      2               119            0     Integral   \n",
            "2        3             1      3               293            1  Tradicional   \n",
            "3        5             6      1               122            0  Tradicional   \n",
            "4        5             1      4               119            0     Integral   \n",
            "\n",
            "   Precio  \n",
            "0  384366  \n",
            "1  411514  \n",
            "2  328245  \n",
            "3  435154  \n",
            "4  383143  \n",
            "Despues de la transformacion de categorias\n",
            "   Estrato  Habitaciones  Baños  Metros_Cuadrados  Parqueadero  Precio  \\\n",
            "0        4             1      4               244            0  384366   \n",
            "1        5             4      2               119            0  411514   \n",
            "2        3             1      3               293            1  328245   \n",
            "3        5             6      1               122            0  435154   \n",
            "4        5             1      4               119            0  383143   \n",
            "\n",
            "   Tipo_Cocina_Integral  Tipo_Cocina_Tradicional  \n",
            "0                 False                    False  \n",
            "1                  True                    False  \n",
            "2                 False                     True  \n",
            "3                 False                     True  \n",
            "4                  True                    False  \n"
          ]
        },
        {
          "output_type": "display_data",
          "data": {
            "text/plain": [
              "<Figure size 1000x800 with 2 Axes>"
            ],
            "image/png": "[encoded data removed]"
          },
          "metadata": {}
        },
        {
          "output_type": "stream",
          "name": "stdout",
          "text": [
            "\n",
            "Evaluación del modelo:\n",
            "Error cuadrático medio (MSE): 6051370.63\n",
            "Coeficiente de determinación (R^2): 1.00\n",
            "\n",
            "Coeficientes del modelo:\n",
            "Estrato: 49748.03\n",
            "Habitaciones: 20158.62\n",
            "Baños: 15005.18\n",
            "Metros_Cuadrados: 296.23\n",
            "Parqueadero: 20326.51\n",
            "Tipo_Cocina_Integral: -8937.70\n",
            "Tipo_Cocina_Tradicional: -19221.25\n",
            "   Estrato  Habitaciones  Baños  Metros_Cuadrados  Parqueadero  \\\n",
            "0        4             3      2               120            1   \n",
            "\n",
            "   Tipo_Cocina_Integral  Tipo_Cocina_Americana  \n",
            "0                     1                      0  \n",
            "\n",
            "Predicción de precio para el ejemplo: 366663.04 USD\n"
          ]
        }
      ]
    },
    {
      "cell_type": "code",
      "source": [
        "import pandas as pd\n",
        "from google.colab import files\n",
        "\n",
        "# Asegurarse de que resultados esté definido (o recrearlo)\n",
        "# Reemplaza X_test, y_test, y_pred con las variables correspondientes de tu entorno\n",
        "resultados = pd.DataFrame(X_test, columns=X.columns)\n",
        "resultados[\"Estado_Real\"] = y_test.values\n",
        "resultados[\"Prediccion\"] = y_pred\n",
        "\n",
        "# Exportar a Excel\n",
        "resultados.to_excel(\"resultados_predicciones.xlsx\", index=False)\n",
        "\n",
        "# Descargar el archivo Excel\n",
        "files.download(\"resultados_predicciones.xlsx\")\n"
      ],
      "metadata": {
        "colab": {
          "base_uri": "https://localhost:8080/",
          "height": 17
        },
        "id": "tvoAI1WHvJgQ",
        "outputId": "895dd1bb-687d-4f81-8f7b-427f99ef46ac"
      },
      "execution_count": null,
      "outputs": [
        {
          "output_type": "display_data",
          "data": {
            "text/plain": [
              "<IPython.core.display.Javascript object>"
            ],
            "application/javascript": [
              "\n",
              "    async function download(id, filename, size) {\n",
              "      if (!google.colab.kernel.accessAllowed) {\n",
              "        return;\n",
              "      }\n",
              "      const div = document.createElement('div');\n",
              "      const label = document.createElement('label');\n",
              "      label.textContent = `Downloading \"${filename}\": `;\n",
              "      div.appendChild(label);\n",
              "      const progress = document.createElement('progress');\n",
              "      progress.max = size;\n",
              "      div.appendChild(progress);\n",
              "      document.body.appendChild(div);\n",
              "\n",
              "      const buffers = [];\n",
              "      let downloaded = 0;\n",
              "\n",
              "      const channel = await google.colab.kernel.comms.open(id);\n",
              "      // Send a message to notify the kernel that we're ready.\n",
              "      channel.send({})\n",
              "\n",
              "      for await (const message of channel.messages) {\n",
              "        // Send a message to notify the kernel that we're ready.\n",
              "        channel.send({})\n",
              "        if (message.buffers) {\n",
              "          for (const buffer of message.buffers) {\n",
              "            buffers.push(buffer);\n",
              "            downloaded += buffer.byteLength;\n",
              "            progress.value = downloaded;\n",
              "          }\n",
              "        }\n",
              "      }\n",
              "      const blob = new Blob(buffers, {type: 'application/binary'});\n",
              "      const a = document.createElement('a');\n",
              "      a.href = window.URL.createObjectURL(blob);\n",
              "      a.download = filename;\n",
              "      div.appendChild(a);\n",
              "      a.click();\n",
              "      div.remove();\n",
              "    }\n",
              "  "
            ]
          },
          "metadata": {}
        },
        {
          "output_type": "display_data",
          "data": {
            "text/plain": [
              "<IPython.core.display.Javascript object>"
            ],
            "application/javascript": [
              "download(\"download_eba3e173-2f3f-4f94-a458-52708b3679fd\", \"resultados_predicciones.xlsx\", 7000)"
            ]
          },
          "metadata": {}
        }
      ]
    }
  ]
}